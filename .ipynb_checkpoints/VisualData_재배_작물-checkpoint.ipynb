{
 "cells": [
  {
   "cell_type": "code",
   "execution_count": 1,
   "id": "a8058bb0",
   "metadata": {},
   "outputs": [],
   "source": [
    "import re\n",
    "from tqdm import tqdm"
   ]
  },
  {
   "cell_type": "code",
   "execution_count": 2,
   "id": "706da7bf",
   "metadata": {},
   "outputs": [],
   "source": [
    "import openai\n",
    "import os\n",
    "import pandas as pd\n",
    "import numpy as np\n",
    "import matplotlib.pyplot as plt\n",
    "from collections import Counter\n",
    "from itertools import chain"
   ]
  },
  {
   "cell_type": "code",
   "execution_count": 3,
   "id": "941f765c",
   "metadata": {},
   "outputs": [],
   "source": [
    "import urllib3\n",
    "import json\n",
    "\n",
    "def nerByETRI(text):\n",
    "    openApiURL = \"http://aiopen.etri.re.kr:8000/WiseNLU\" \n",
    "    accessKey = \"26890e16-f465-40c0-8881-37074821de8a\"\n",
    "    analysisCode = \"ner\"\n",
    "    text = text\n",
    "\n",
    "    requestJson = {  \n",
    "        \"argument\": {\n",
    "            \"text\": text,\n",
    "            \"analysis_code\": analysisCode\n",
    "        }\n",
    "    }\n",
    "\n",
    "    http = urllib3.PoolManager()\n",
    "    response = http.request(\n",
    "        \"POST\",\n",
    "        openApiURL,\n",
    "        headers={\"Content-Type\": \"application/json; charset=UTF-8\", \"Authorization\" :  accessKey},\n",
    "        body=json.dumps(requestJson)\n",
    "    )\n",
    "\n",
    "    result = str(response.data,\"utf-8\")\n",
    "    json_dict = json.loads(result)\n",
    "    ner = json_dict['return_object']['sentence'][0]['NE'][0]['type']\n",
    "    return ner"
   ]
  },
  {
   "cell_type": "code",
   "execution_count": 4,
   "id": "54a1e1b0",
   "metadata": {},
   "outputs": [
    {
     "name": "stderr",
     "output_type": "stream",
     "text": [
      "C:\\Users\\NH\\anaconda3\\lib\\site-packages\\openpyxl\\styles\\stylesheet.py:226: UserWarning: Workbook contains no default style, apply openpyxl's default\n",
      "  warn(\"Workbook contains no default style, apply openpyxl's default\")\n"
     ]
    },
    {
     "name": "stdout",
     "output_type": "stream",
     "text": [
      "NewsResult_20020101-20091231.xlsx\n",
      "NewsResult_20100101-20121231.xlsx\n",
      "NewsResult_20130101-20161231.xlsx\n",
      "NewsResult_20170101-20201231.xlsx\n",
      "NewsResult_20210101-20230425.xlsx\n"
     ]
    }
   ],
   "source": [
    "from_date = '20020101'\n",
    "to_date = '20230425'\n",
    "topic = '재배 AND 작물'\n",
    "\n",
    "cwd = os.getcwd()\n",
    "path = cwd +'/' + topic + '/raw'\n",
    "file_list = os.listdir(path)\n",
    "\n",
    "dfs = []\n",
    "for i in file_list:\n",
    "    df = pd.read_excel(path+'/'+i)\n",
    "    dfs.append(df)\n",
    "    print(i)\n",
    "data = pd.concat(dfs)"
   ]
  },
  {
   "cell_type": "code",
   "execution_count": 5,
   "id": "885624fa",
   "metadata": {},
   "outputs": [],
   "source": [
    "# 데이터 전처리"
   ]
  },
  {
   "cell_type": "code",
   "execution_count": 6,
   "id": "1f99dc60",
   "metadata": {},
   "outputs": [],
   "source": [
    "data = data.sort_values(by = '일자')"
   ]
  },
  {
   "cell_type": "code",
   "execution_count": 7,
   "id": "01233235",
   "metadata": {
    "scrolled": true
   },
   "outputs": [],
   "source": [
    "df = data[['일자','키워드']]\n",
    "df.reset_index(inplace = True, drop = True)"
   ]
  },
  {
   "cell_type": "code",
   "execution_count": 8,
   "id": "8bb14bf3",
   "metadata": {},
   "outputs": [],
   "source": [
    "# 1 행정구역\n",
    "import geopandas as gpd"
   ]
  },
  {
   "cell_type": "code",
   "execution_count": 9,
   "id": "11929b46",
   "metadata": {},
   "outputs": [],
   "source": [
    "# prepare and read data\n",
    "F1 = cwd +'/' + topic  + '/CTPRVN_202302/ctp_rvn.shp' \n",
    "D1 = gpd.read_file(F1, encoding='cp949')\n",
    "\n",
    "F2 = cwd +'/' + topic  + '/SIG_202302/sig.shp' \n",
    "D2 = gpd.read_file(F2, encoding='cp949')\n",
    "\n",
    "D1 = D1[['CTPRVN_CD','CTP_KOR_NM']]\n",
    "D2 = D2[['SIG_CD','SIG_KOR_NM']]"
   ]
  },
  {
   "cell_type": "code",
   "execution_count": 10,
   "id": "dd010b2c",
   "metadata": {},
   "outputs": [
    {
     "name": "stderr",
     "output_type": "stream",
     "text": [
      "100%|███████████████████████████████████████████████████████████████████████████| 83628/83628 [02:23<00:00, 583.26it/s]\n"
     ]
    }
   ],
   "source": [
    "# 시군구 달기\n",
    "D2['SIG_KOR_NM_SINGLE'] = [x[:-1] for x in D2['SIG_KOR_NM']]\n",
    "tmp = []\n",
    "for i in D2['SIG_KOR_NM_SINGLE']:\n",
    "    if len(i) > 3:\n",
    "        i = i[0:2]\n",
    "        tmp.append(i)\n",
    "    else:\n",
    "        tmp.append(i)\n",
    "D2['SIG_KOR_NM_SINGLE'] = tmp\n",
    "\n",
    "regions = []\n",
    "\n",
    "for j in tqdm(df['키워드']):\n",
    "    for i in j.split(','):\n",
    "        check = 0\n",
    "        if i in list(D2['SIG_KOR_NM']) :\n",
    "            check = 1\n",
    "            regions.append(i)\n",
    "            break\n",
    "        elif i in list(D2['SIG_KOR_NM_SINGLE']) :\n",
    "            check = 1\n",
    "            regions.append(i)\n",
    "            break\n",
    "    if check == 0:\n",
    "        regions.append('nan')"
   ]
  },
  {
   "cell_type": "code",
   "execution_count": 11,
   "id": "a69e70ad",
   "metadata": {},
   "outputs": [
    {
     "data": {
      "text/html": [
       "<div>\n",
       "<style scoped>\n",
       "    .dataframe tbody tr th:only-of-type {\n",
       "        vertical-align: middle;\n",
       "    }\n",
       "\n",
       "    .dataframe tbody tr th {\n",
       "        vertical-align: top;\n",
       "    }\n",
       "\n",
       "    .dataframe thead th {\n",
       "        text-align: right;\n",
       "    }\n",
       "</style>\n",
       "<table border=\"1\" class=\"dataframe\">\n",
       "  <thead>\n",
       "    <tr style=\"text-align: right;\">\n",
       "      <th></th>\n",
       "      <th>CTPRVN_CD</th>\n",
       "      <th>CTP_KOR_NM</th>\n",
       "    </tr>\n",
       "  </thead>\n",
       "  <tbody>\n",
       "    <tr>\n",
       "      <th>0</th>\n",
       "      <td>11</td>\n",
       "      <td>서울특별시</td>\n",
       "    </tr>\n",
       "    <tr>\n",
       "      <th>1</th>\n",
       "      <td>26</td>\n",
       "      <td>부산광역시</td>\n",
       "    </tr>\n",
       "    <tr>\n",
       "      <th>2</th>\n",
       "      <td>27</td>\n",
       "      <td>대구광역시</td>\n",
       "    </tr>\n",
       "    <tr>\n",
       "      <th>3</th>\n",
       "      <td>28</td>\n",
       "      <td>인천광역시</td>\n",
       "    </tr>\n",
       "    <tr>\n",
       "      <th>4</th>\n",
       "      <td>29</td>\n",
       "      <td>광주광역시</td>\n",
       "    </tr>\n",
       "    <tr>\n",
       "      <th>5</th>\n",
       "      <td>30</td>\n",
       "      <td>대전광역시</td>\n",
       "    </tr>\n",
       "    <tr>\n",
       "      <th>6</th>\n",
       "      <td>31</td>\n",
       "      <td>울산광역시</td>\n",
       "    </tr>\n",
       "    <tr>\n",
       "      <th>7</th>\n",
       "      <td>36</td>\n",
       "      <td>세종특별자치시</td>\n",
       "    </tr>\n",
       "    <tr>\n",
       "      <th>8</th>\n",
       "      <td>41</td>\n",
       "      <td>경기도</td>\n",
       "    </tr>\n",
       "    <tr>\n",
       "      <th>9</th>\n",
       "      <td>42</td>\n",
       "      <td>강원도</td>\n",
       "    </tr>\n",
       "    <tr>\n",
       "      <th>10</th>\n",
       "      <td>43</td>\n",
       "      <td>충청북도</td>\n",
       "    </tr>\n",
       "    <tr>\n",
       "      <th>11</th>\n",
       "      <td>44</td>\n",
       "      <td>충청남도</td>\n",
       "    </tr>\n",
       "    <tr>\n",
       "      <th>12</th>\n",
       "      <td>45</td>\n",
       "      <td>전라북도</td>\n",
       "    </tr>\n",
       "    <tr>\n",
       "      <th>13</th>\n",
       "      <td>46</td>\n",
       "      <td>전라남도</td>\n",
       "    </tr>\n",
       "    <tr>\n",
       "      <th>14</th>\n",
       "      <td>47</td>\n",
       "      <td>경상북도</td>\n",
       "    </tr>\n",
       "    <tr>\n",
       "      <th>15</th>\n",
       "      <td>48</td>\n",
       "      <td>경상남도</td>\n",
       "    </tr>\n",
       "    <tr>\n",
       "      <th>16</th>\n",
       "      <td>50</td>\n",
       "      <td>제주특별자치도</td>\n",
       "    </tr>\n",
       "  </tbody>\n",
       "</table>\n",
       "</div>"
      ],
      "text/plain": [
       "   CTPRVN_CD CTP_KOR_NM\n",
       "0         11      서울특별시\n",
       "1         26      부산광역시\n",
       "2         27      대구광역시\n",
       "3         28      인천광역시\n",
       "4         29      광주광역시\n",
       "5         30      대전광역시\n",
       "6         31      울산광역시\n",
       "7         36    세종특별자치시\n",
       "8         41        경기도\n",
       "9         42        강원도\n",
       "10        43       충청북도\n",
       "11        44       충청남도\n",
       "12        45       전라북도\n",
       "13        46       전라남도\n",
       "14        47       경상북도\n",
       "15        48       경상남도\n",
       "16        50    제주특별자치도"
      ]
     },
     "execution_count": 11,
     "metadata": {},
     "output_type": "execute_result"
    }
   ],
   "source": [
    "D1"
   ]
  },
  {
   "cell_type": "code",
   "execution_count": 12,
   "id": "8256e550",
   "metadata": {},
   "outputs": [
    {
     "name": "stderr",
     "output_type": "stream",
     "text": [
      "100%|██████████████████████████████████████████████████████████████████████████| 83628/83628 [00:45<00:00, 1854.47it/s]\n"
     ]
    }
   ],
   "source": [
    "# 시도 달기\n",
    "D1['CTP_KOR_NM_SINGLE'] = [x[0:2] for x in D1['CTP_KOR_NM']]\n",
    "D1['CTP_KOR_NM_SINGLE'][10] = '충북'\n",
    "D1['CTP_KOR_NM_SINGLE'][11] = '충남'\n",
    "D1['CTP_KOR_NM_SINGLE'][12] = '전북'\n",
    "D1['CTP_KOR_NM_SINGLE'][13] = '전남'\n",
    "D1['CTP_KOR_NM_SINGLE'][14] = '경북'\n",
    "D1['CTP_KOR_NM_SINGLE'][14] = '경남'\n",
    "\n",
    "provines = []\n",
    "\n",
    "for j in tqdm(df['키워드']):\n",
    "    for i in j.split(','):\n",
    "        check = 0\n",
    "        if i in list(D1['CTP_KOR_NM_SINGLE']) :\n",
    "            check = 1\n",
    "            provines.append(i)\n",
    "            break\n",
    "    if check == 0:\n",
    "        provines.append('nan')"
   ]
  },
  {
   "cell_type": "code",
   "execution_count": 13,
   "id": "23fa83c0",
   "metadata": {
    "scrolled": true
   },
   "outputs": [
    {
     "name": "stderr",
     "output_type": "stream",
     "text": [
      "C:\\Users\\NH\\AppData\\Local\\Temp\\ipykernel_9532\\581372460.py:2: SettingWithCopyWarning: \n",
      "A value is trying to be set on a copy of a slice from a DataFrame.\n",
      "Try using .loc[row_indexer,col_indexer] = value instead\n",
      "\n",
      "See the caveats in the documentation: https://pandas.pydata.org/pandas-docs/stable/user_guide/indexing.html#returning-a-view-versus-a-copy\n",
      "  df['시도'] = provines\n",
      "C:\\Users\\NH\\AppData\\Local\\Temp\\ipykernel_9532\\581372460.py:3: SettingWithCopyWarning: \n",
      "A value is trying to be set on a copy of a slice from a DataFrame.\n",
      "Try using .loc[row_indexer,col_indexer] = value instead\n",
      "\n",
      "See the caveats in the documentation: https://pandas.pydata.org/pandas-docs/stable/user_guide/indexing.html#returning-a-view-versus-a-copy\n",
      "  df['시군구'] = regions\n"
     ]
    }
   ],
   "source": [
    "# 병합\n",
    "df['시도'] = provines\n",
    "df['시군구'] = regions"
   ]
  },
  {
   "cell_type": "code",
   "execution_count": 14,
   "id": "f53d7d27",
   "metadata": {
    "scrolled": true
   },
   "outputs": [
    {
     "data": {
      "text/html": [
       "<div>\n",
       "<style scoped>\n",
       "    .dataframe tbody tr th:only-of-type {\n",
       "        vertical-align: middle;\n",
       "    }\n",
       "\n",
       "    .dataframe tbody tr th {\n",
       "        vertical-align: top;\n",
       "    }\n",
       "\n",
       "    .dataframe thead th {\n",
       "        text-align: right;\n",
       "    }\n",
       "</style>\n",
       "<table border=\"1\" class=\"dataframe\">\n",
       "  <thead>\n",
       "    <tr style=\"text-align: right;\">\n",
       "      <th></th>\n",
       "      <th>일자</th>\n",
       "      <th>키워드</th>\n",
       "      <th>시도</th>\n",
       "      <th>시군구</th>\n",
       "    </tr>\n",
       "  </thead>\n",
       "  <tbody>\n",
       "    <tr>\n",
       "      <th>0</th>\n",
       "      <td>20020101</td>\n",
       "      <td>발상전환,약속,발상전환,약속,3년,도시생활,빈통장,도시,생활,귀농,양계,채소,비닐하...</td>\n",
       "      <td>nan</td>\n",
       "      <td>양주</td>\n",
       "    </tr>\n",
       "    <tr>\n",
       "      <th>1</th>\n",
       "      <td>20020101</td>\n",
       "      <td>자연테마,식물원,개관,자연테마,식물원,개관,평택시,식물,5,200그루,유리,온실,조...</td>\n",
       "      <td>nan</td>\n",
       "      <td>평택시</td>\n",
       "    </tr>\n",
       "    <tr>\n",
       "      <th>2</th>\n",
       "      <td>20020101</td>\n",
       "      <td>결산좌담회,결산좌담회,비료,사용,최소,체계적,토양,보존,대책,01일,생명체,자궁,생...</td>\n",
       "      <td>nan</td>\n",
       "      <td>nan</td>\n",
       "    </tr>\n",
       "    <tr>\n",
       "      <th>3</th>\n",
       "      <td>20020101</td>\n",
       "      <td>결산좌담회,결산좌담회,비료,사용,최소,체계적,토양,보존,대책,01일,생명체,자궁,생...</td>\n",
       "      <td>nan</td>\n",
       "      <td>nan</td>\n",
       "    </tr>\n",
       "    <tr>\n",
       "      <th>4</th>\n",
       "      <td>20020101</td>\n",
       "      <td>차관보,안종운,농림부,산업,노력,첨단,이용,우수,품질,생산,돼지고기,주력,상품,집중...</td>\n",
       "      <td>전남</td>\n",
       "      <td>장흥</td>\n",
       "    </tr>\n",
       "    <tr>\n",
       "      <th>...</th>\n",
       "      <td>...</td>\n",
       "      <td>...</td>\n",
       "      <td>...</td>\n",
       "      <td>...</td>\n",
       "    </tr>\n",
       "    <tr>\n",
       "      <th>83623</th>\n",
       "      <td>20230425</td>\n",
       "      <td>영광군,원예농,지원,생산,장려금,영광군,영광군청,전경전남,친환경인증,과수,채소,중심...</td>\n",
       "      <td>nan</td>\n",
       "      <td>영광군</td>\n",
       "    </tr>\n",
       "    <tr>\n",
       "      <th>83624</th>\n",
       "      <td>20230425</td>\n",
       "      <td>우승희,영암,군수,멜론,생산,체계,구축,시찰,재배,농가,현장,우승희,영암,군수,오른...</td>\n",
       "      <td>nan</td>\n",
       "      <td>영암</td>\n",
       "    </tr>\n",
       "    <tr>\n",
       "      <th>83625</th>\n",
       "      <td>20230425</td>\n",
       "      <td>울산,청량농협,농업인,건전육묘,지원,사업,울산,청량농협,조합장,박동섭,영농철,조합원...</td>\n",
       "      <td>울산</td>\n",
       "      <td>nan</td>\n",
       "    </tr>\n",
       "    <tr>\n",
       "      <th>83626</th>\n",
       "      <td>20230425</td>\n",
       "      <td>정읍시,외국인,계절,근로자,프로그램,추진,정읍시,시장,이학수,농촌,인구,감소,농번기...</td>\n",
       "      <td>nan</td>\n",
       "      <td>정읍시</td>\n",
       "    </tr>\n",
       "    <tr>\n",
       "      <th>83627</th>\n",
       "      <td>20230425</td>\n",
       "      <td>세종시,전략,작물,직불,신청,연장,생산,과잉,수급,안전,모내기철,연장,결정,논콩,하...</td>\n",
       "      <td>nan</td>\n",
       "      <td>nan</td>\n",
       "    </tr>\n",
       "  </tbody>\n",
       "</table>\n",
       "<p>83628 rows × 4 columns</p>\n",
       "</div>"
      ],
      "text/plain": [
       "             일자                                                키워드   시도  시군구\n",
       "0      20020101  발상전환,약속,발상전환,약속,3년,도시생활,빈통장,도시,생활,귀농,양계,채소,비닐하...  nan   양주\n",
       "1      20020101  자연테마,식물원,개관,자연테마,식물원,개관,평택시,식물,5,200그루,유리,온실,조...  nan  평택시\n",
       "2      20020101  결산좌담회,결산좌담회,비료,사용,최소,체계적,토양,보존,대책,01일,생명체,자궁,생...  nan  nan\n",
       "3      20020101  결산좌담회,결산좌담회,비료,사용,최소,체계적,토양,보존,대책,01일,생명체,자궁,생...  nan  nan\n",
       "4      20020101  차관보,안종운,농림부,산업,노력,첨단,이용,우수,품질,생산,돼지고기,주력,상품,집중...   전남   장흥\n",
       "...         ...                                                ...  ...  ...\n",
       "83623  20230425  영광군,원예농,지원,생산,장려금,영광군,영광군청,전경전남,친환경인증,과수,채소,중심...  nan  영광군\n",
       "83624  20230425  우승희,영암,군수,멜론,생산,체계,구축,시찰,재배,농가,현장,우승희,영암,군수,오른...  nan   영암\n",
       "83625  20230425  울산,청량농협,농업인,건전육묘,지원,사업,울산,청량농협,조합장,박동섭,영농철,조합원...   울산  nan\n",
       "83626  20230425  정읍시,외국인,계절,근로자,프로그램,추진,정읍시,시장,이학수,농촌,인구,감소,농번기...  nan  정읍시\n",
       "83627  20230425  세종시,전략,작물,직불,신청,연장,생산,과잉,수급,안전,모내기철,연장,결정,논콩,하...  nan  nan\n",
       "\n",
       "[83628 rows x 4 columns]"
      ]
     },
     "execution_count": 14,
     "metadata": {},
     "output_type": "execute_result"
    }
   ],
   "source": [
    "df"
   ]
  },
  {
   "cell_type": "code",
   "execution_count": 15,
   "id": "77567f2f",
   "metadata": {},
   "outputs": [],
   "source": [
    "# 시군구 코드 달기\n",
    "codes = []\n",
    "new_regions = []\n",
    "for i in df['시군구']:\n",
    "    try:\n",
    "        code = D2[(D2['SIG_KOR_NM_SINGLE'] == i) | (D2['SIG_KOR_NM'] == i)]['SIG_CD'].values[0]\n",
    "        region = D2[(D2['SIG_KOR_NM_SINGLE'] == i) | (D2['SIG_KOR_NM'] == i)]['SIG_KOR_NM'].values[0]\n",
    "        codes.append(code)\n",
    "        new_regions.append(region)\n",
    "    except:\n",
    "        codes.append('nan')\n",
    "        new_regions.append('nan')"
   ]
  },
  {
   "cell_type": "code",
   "execution_count": 16,
   "id": "695ed1d6",
   "metadata": {},
   "outputs": [
    {
     "name": "stderr",
     "output_type": "stream",
     "text": [
      "C:\\Users\\NH\\AppData\\Local\\Temp\\ipykernel_9532\\1487141408.py:1: SettingWithCopyWarning: \n",
      "A value is trying to be set on a copy of a slice from a DataFrame.\n",
      "Try using .loc[row_indexer,col_indexer] = value instead\n",
      "\n",
      "See the caveats in the documentation: https://pandas.pydata.org/pandas-docs/stable/user_guide/indexing.html#returning-a-view-versus-a-copy\n",
      "  df['code'] = codes\n",
      "C:\\Users\\NH\\AppData\\Local\\Temp\\ipykernel_9532\\1487141408.py:3: SettingWithCopyWarning: \n",
      "A value is trying to be set on a copy of a slice from a DataFrame.\n",
      "Try using .loc[row_indexer,col_indexer] = value instead\n",
      "\n",
      "See the caveats in the documentation: https://pandas.pydata.org/pandas-docs/stable/user_guide/indexing.html#returning-a-view-versus-a-copy\n",
      "  df['시군구'] = new_regions\n"
     ]
    }
   ],
   "source": [
    "df['code'] = codes\n",
    "# 용어 통일\n",
    "df['시군구'] = new_regions"
   ]
  },
  {
   "cell_type": "code",
   "execution_count": 17,
   "id": "0af1310a",
   "metadata": {},
   "outputs": [],
   "source": [
    "# 결측치 제거\n",
    "df = df[(df['시도'] != 'nan') | (df['시군구'] != 'nan') | (df['code'] != 'nan')]\n",
    "df.reset_index(drop = True, inplace= True)"
   ]
  },
  {
   "cell_type": "code",
   "execution_count": 18,
   "id": "6e9e4437",
   "metadata": {},
   "outputs": [
    {
     "name": "stderr",
     "output_type": "stream",
     "text": [
      "C:\\Users\\NH\\AppData\\Local\\Temp\\ipykernel_9532\\2157452940.py:2: SettingWithCopyWarning: \n",
      "A value is trying to be set on a copy of a slice from a DataFrame.\n",
      "Try using .loc[row_indexer,col_indexer] = value instead\n",
      "\n",
      "See the caveats in the documentation: https://pandas.pydata.org/pandas-docs/stable/user_guide/indexing.html#returning-a-view-versus-a-copy\n",
      "  df['code_provine'] = [x[0:2] for x in df['code']]\n"
     ]
    }
   ],
   "source": [
    "# 시군구 코드에서 시도코드 파싱\n",
    "df['code_provine'] = [x[0:2] for x in df['code']]\n",
    "\n",
    "code_provine_dict = dict(zip(D1['CTPRVN_CD'], D1['CTP_KOR_NM']))"
   ]
  },
  {
   "cell_type": "code",
   "execution_count": 19,
   "id": "75f6b00c",
   "metadata": {},
   "outputs": [],
   "source": [
    "provinesingle_provine = dict(zip(D1['CTP_KOR_NM_SINGLE'], D1['CTP_KOR_NM']))"
   ]
  },
  {
   "cell_type": "code",
   "execution_count": 20,
   "id": "e261b7a3",
   "metadata": {},
   "outputs": [
    {
     "name": "stderr",
     "output_type": "stream",
     "text": [
      "C:\\Users\\NH\\AppData\\Local\\Temp\\ipykernel_9532\\3587699959.py:3: SettingWithCopyWarning: \n",
      "A value is trying to be set on a copy of a slice from a DataFrame\n",
      "\n",
      "See the caveats in the documentation: https://pandas.pydata.org/pandas-docs/stable/user_guide/indexing.html#returning-a-view-versus-a-copy\n",
      "  df['시도'][i] = provinesingle_provine[j]\n"
     ]
    }
   ],
   "source": [
    "for i,j in enumerate(df['시도']):\n",
    "    if j != 'nan':\n",
    "        df['시도'][i] = provinesingle_provine[j]"
   ]
  },
  {
   "cell_type": "code",
   "execution_count": 21,
   "id": "87b8b855",
   "metadata": {
    "scrolled": true
   },
   "outputs": [],
   "source": [
    "provine_code_dict =  dict(zip(D1['CTP_KOR_NM'], D1['CTPRVN_CD']))"
   ]
  },
  {
   "cell_type": "code",
   "execution_count": 22,
   "id": "166f4eba",
   "metadata": {},
   "outputs": [
    {
     "name": "stderr",
     "output_type": "stream",
     "text": [
      "C:\\Users\\NH\\AppData\\Local\\Temp\\ipykernel_9532\\2089381424.py:3: SettingWithCopyWarning: \n",
      "A value is trying to be set on a copy of a slice from a DataFrame\n",
      "\n",
      "See the caveats in the documentation: https://pandas.pydata.org/pandas-docs/stable/user_guide/indexing.html#returning-a-view-versus-a-copy\n",
      "  df['code_provine'][i] = provine_code_dict[df['시도'][i]]\n"
     ]
    }
   ],
   "source": [
    "for i, j in enumerate(df['code_provine']):\n",
    "    if j == 'na':\n",
    "        df['code_provine'][i] = provine_code_dict[df['시도'][i]]"
   ]
  },
  {
   "cell_type": "code",
   "execution_count": 23,
   "id": "8a3a3233",
   "metadata": {},
   "outputs": [
    {
     "name": "stderr",
     "output_type": "stream",
     "text": [
      "C:\\Users\\NH\\AppData\\Local\\Temp\\ipykernel_9532\\1777164067.py:9: SettingWithCopyWarning: \n",
      "A value is trying to be set on a copy of a slice from a DataFrame.\n",
      "Try using .loc[row_indexer,col_indexer] = value instead\n",
      "\n",
      "See the caveats in the documentation: https://pandas.pydata.org/pandas-docs/stable/user_guide/indexing.html#returning-a-view-versus-a-copy\n",
      "  df['시도'] = provines_est\n"
     ]
    }
   ],
   "source": [
    "# 시도코드로 시도추정\n",
    "provines_est = []\n",
    "for i in df['code_provine']:\n",
    "    try:\n",
    "        provines_est.append(code_provine_dict[i])\n",
    "    except:\n",
    "        provines_est.append('nan')\n",
    "        \n",
    "df['시도'] = provines_est"
   ]
  },
  {
   "cell_type": "code",
   "execution_count": 24,
   "id": "8e35fae1",
   "metadata": {},
   "outputs": [],
   "source": [
    "# 2. 재배작물을 NER -> 안되면 해서 추출... 안되면 사전 이용"
   ]
  },
  {
   "cell_type": "code",
   "execution_count": 25,
   "id": "bd9b5f26",
   "metadata": {},
   "outputs": [
    {
     "name": "stderr",
     "output_type": "stream",
     "text": [
      "C:\\Users\\NH\\AppData\\Local\\Temp\\ipykernel_9532\\49188014.py:4: SettingWithCopyWarning: \n",
      "A value is trying to be set on a copy of a slice from a DataFrame.\n",
      "Try using .loc[row_indexer,col_indexer] = value instead\n",
      "\n",
      "See the caveats in the documentation: https://pandas.pydata.org/pandas-docs/stable/user_guide/indexing.html#returning-a-view-versus-a-copy\n",
      "  df['키워드'] = [x.split(',') for x in df['키워드']]\n"
     ]
    },
    {
     "data": {
      "text/plain": [
       "Index(['약속', '3년', '도시', '생활', '귀농', '채소', '비닐하우스', '실패', '주위', '겨울',\n",
       "       ...\n",
       "       'IoT', '더불어민주당', 'PLS', '청년농', '혁신밸리', '과수화상병', '코로나', '코로나19', '윤석열',\n",
       "       '가루쌀'],\n",
       "      dtype='object', length=3309)"
      ]
     },
     "execution_count": 25,
     "metadata": {},
     "output_type": "execute_result"
    }
   ],
   "source": [
    "# 키워드 카운트 하고 500번 이상 출현한 단어만 1차 선정해서 NER\n",
    "# 우선 ETRI의 AP!의 1일 한도를 감안해 5000개 미만 NER, \n",
    "# ETRI가 농축산품 개체명 인식은 정확하지 않고 제한도 있어서 더 나은 개체명 인식 필요\n",
    "df['키워드'] = [x.split(',') for x in df['키워드']]\n",
    "\n",
    "kwd_cnt = Counter(list(chain(*df['키워드'].values)))\n",
    "kwd_cnt_df = pd.DataFrame(kwd_cnt, index = ['value']).T\n",
    "kwd_cnt_df = kwd_cnt_df[kwd_cnt_df['value'] > 500] \n",
    "kwd_cnt_df.index"
   ]
  },
  {
   "cell_type": "code",
   "execution_count": 26,
   "id": "de578bab",
   "metadata": {},
   "outputs": [
    {
     "name": "stderr",
     "output_type": "stream",
     "text": [
      "100%|██████████████████████████████████████████████████████████████████████████████| 3309/3309 [03:54<00:00, 14.10it/s]\n"
     ]
    }
   ],
   "source": [
    "# 한번만!\n",
    "ners = []\n",
    "\n",
    "for i in tqdm(kwd_cnt_df.index):\n",
    "    try:\n",
    "        ner = nerByETRI(i)\n",
    "        ners.append(ner)\n",
    "    except:\n",
    "        ners.append('etc')"
   ]
  },
  {
   "cell_type": "code",
   "execution_count": 27,
   "id": "b10c6c40",
   "metadata": {},
   "outputs": [],
   "source": [
    "# 대분류 PT만 사용\n",
    "kwd_ner_df = pd.DataFrame({'kwd':kwd_cnt_df.index,'ner':ners})\n",
    "kwd_ner_df = kwd_ner_df[kwd_ner_df['ner'] != 'etc']\n",
    "idx = ['PT' in x for x in kwd_ner_df['ner'] ]\n",
    "pt_df = kwd_ner_df[idx]\n",
    "pt_df.reset_index(inplace=True, drop=True)\n",
    "pt_list = pt_df['kwd'].values\n",
    "pt_list = list(pt_list)"
   ]
  },
  {
   "cell_type": "code",
   "execution_count": 29,
   "id": "c42cb2cc",
   "metadata": {},
   "outputs": [],
   "source": [
    "# 개체명 잘못된거 제거\n",
    "\n",
    "remove_kwd = []\n",
    "\n",
    "for i in remove_kwd:\n",
    "    pt_list.remove(i)"
   ]
  },
  {
   "cell_type": "code",
   "execution_count": 30,
   "id": "98940a35",
   "metadata": {},
   "outputs": [],
   "source": [
    "# 개체명에서 누락된 것 추가\n"
   ]
  },
  {
   "cell_type": "code",
   "execution_count": 31,
   "id": "8da93dec",
   "metadata": {},
   "outputs": [],
   "source": [
    "# 작물별, 연도별, 지역별 집적된 표를 만들어야함."
   ]
  },
  {
   "cell_type": "code",
   "execution_count": 32,
   "id": "5efdf439",
   "metadata": {},
   "outputs": [
    {
     "name": "stderr",
     "output_type": "stream",
     "text": [
      "0it [00:00, ?it/s]C:\\Users\\NH\\AppData\\Local\\Temp\\ipykernel_9532\\3018013306.py:3: SettingWithCopyWarning: \n",
      "A value is trying to be set on a copy of a slice from a DataFrame\n",
      "\n",
      "See the caveats in the documentation: https://pandas.pydata.org/pandas-docs/stable/user_guide/indexing.html#returning-a-view-versus-a-copy\n",
      "  df['키워드'][i] = new_kwd\n",
      "70267it [00:58, 1202.07it/s]\n"
     ]
    }
   ],
   "source": [
    "for i,_ in tqdm(enumerate(df['키워드'])):\n",
    "    new_kwd = list((set(pt_list) & set(df['키워드'][i])))\n",
    "    df['키워드'][i] = new_kwd"
   ]
  },
  {
   "cell_type": "code",
   "execution_count": 133,
   "id": "79308210",
   "metadata": {},
   "outputs": [],
   "source": [
    "idx = [len(x) != 0 for x in df['키워드']]\n",
    "result_df = df[idx]"
   ]
  },
  {
   "cell_type": "code",
   "execution_count": 135,
   "id": "0e9f39b6",
   "metadata": {
    "scrolled": false
   },
   "outputs": [],
   "source": [
    "result_df = result_df.explode(\"키워드\").reset_index(drop=True)"
   ]
  },
  {
   "cell_type": "code",
   "execution_count": 138,
   "id": "eb1fdaf8",
   "metadata": {
    "scrolled": false
   },
   "outputs": [],
   "source": [
    "result_df['연도'] = [str(x)[0:4] for x in result_df['일자']]"
   ]
  },
  {
   "cell_type": "code",
   "execution_count": 139,
   "id": "dcc98f45",
   "metadata": {},
   "outputs": [
    {
     "data": {
      "text/html": [
       "<div>\n",
       "<style scoped>\n",
       "    .dataframe tbody tr th:only-of-type {\n",
       "        vertical-align: middle;\n",
       "    }\n",
       "\n",
       "    .dataframe tbody tr th {\n",
       "        vertical-align: top;\n",
       "    }\n",
       "\n",
       "    .dataframe thead th {\n",
       "        text-align: right;\n",
       "    }\n",
       "</style>\n",
       "<table border=\"1\" class=\"dataframe\">\n",
       "  <thead>\n",
       "    <tr style=\"text-align: right;\">\n",
       "      <th></th>\n",
       "      <th>일자</th>\n",
       "      <th>키워드</th>\n",
       "      <th>시도</th>\n",
       "      <th>시군구</th>\n",
       "      <th>code</th>\n",
       "      <th>code_provine</th>\n",
       "      <th>연도</th>\n",
       "    </tr>\n",
       "  </thead>\n",
       "  <tbody>\n",
       "    <tr>\n",
       "      <th>0</th>\n",
       "      <td>20020101</td>\n",
       "      <td>호박</td>\n",
       "      <td>경기도</td>\n",
       "      <td>양주시</td>\n",
       "      <td>41630</td>\n",
       "      <td>41</td>\n",
       "      <td>2002</td>\n",
       "    </tr>\n",
       "    <tr>\n",
       "      <th>1</th>\n",
       "      <td>20020101</td>\n",
       "      <td>키위</td>\n",
       "      <td>경기도</td>\n",
       "      <td>양주시</td>\n",
       "      <td>41630</td>\n",
       "      <td>41</td>\n",
       "      <td>2002</td>\n",
       "    </tr>\n",
       "    <tr>\n",
       "      <th>2</th>\n",
       "      <td>20020101</td>\n",
       "      <td>오이</td>\n",
       "      <td>경기도</td>\n",
       "      <td>양주시</td>\n",
       "      <td>41630</td>\n",
       "      <td>41</td>\n",
       "      <td>2002</td>\n",
       "    </tr>\n",
       "    <tr>\n",
       "      <th>3</th>\n",
       "      <td>20020101</td>\n",
       "      <td>작물</td>\n",
       "      <td>경기도</td>\n",
       "      <td>양주시</td>\n",
       "      <td>41630</td>\n",
       "      <td>41</td>\n",
       "      <td>2002</td>\n",
       "    </tr>\n",
       "    <tr>\n",
       "      <th>4</th>\n",
       "      <td>20020101</td>\n",
       "      <td>딸기</td>\n",
       "      <td>경기도</td>\n",
       "      <td>양주시</td>\n",
       "      <td>41630</td>\n",
       "      <td>41</td>\n",
       "      <td>2002</td>\n",
       "    </tr>\n",
       "    <tr>\n",
       "      <th>...</th>\n",
       "      <td>...</td>\n",
       "      <td>...</td>\n",
       "      <td>...</td>\n",
       "      <td>...</td>\n",
       "      <td>...</td>\n",
       "      <td>...</td>\n",
       "      <td>...</td>\n",
       "    </tr>\n",
       "    <tr>\n",
       "      <th>178334</th>\n",
       "      <td>20230425</td>\n",
       "      <td>배추</td>\n",
       "      <td>울산광역시</td>\n",
       "      <td>nan</td>\n",
       "      <td>nan</td>\n",
       "      <td>31</td>\n",
       "      <td>2023</td>\n",
       "    </tr>\n",
       "    <tr>\n",
       "      <th>178335</th>\n",
       "      <td>20230425</td>\n",
       "      <td>대파</td>\n",
       "      <td>울산광역시</td>\n",
       "      <td>nan</td>\n",
       "      <td>nan</td>\n",
       "      <td>31</td>\n",
       "      <td>2023</td>\n",
       "    </tr>\n",
       "    <tr>\n",
       "      <th>178336</th>\n",
       "      <td>20230425</td>\n",
       "      <td>작물</td>\n",
       "      <td>울산광역시</td>\n",
       "      <td>nan</td>\n",
       "      <td>nan</td>\n",
       "      <td>31</td>\n",
       "      <td>2023</td>\n",
       "    </tr>\n",
       "    <tr>\n",
       "      <th>178337</th>\n",
       "      <td>20230425</td>\n",
       "      <td>양파</td>\n",
       "      <td>울산광역시</td>\n",
       "      <td>nan</td>\n",
       "      <td>nan</td>\n",
       "      <td>31</td>\n",
       "      <td>2023</td>\n",
       "    </tr>\n",
       "    <tr>\n",
       "      <th>178338</th>\n",
       "      <td>20230425</td>\n",
       "      <td>작물</td>\n",
       "      <td>전라북도</td>\n",
       "      <td>정읍시</td>\n",
       "      <td>45180</td>\n",
       "      <td>45</td>\n",
       "      <td>2023</td>\n",
       "    </tr>\n",
       "  </tbody>\n",
       "</table>\n",
       "<p>178339 rows × 7 columns</p>\n",
       "</div>"
      ],
      "text/plain": [
       "              일자 키워드     시도  시군구   code code_provine    연도\n",
       "0       20020101  호박    경기도  양주시  41630           41  2002\n",
       "1       20020101  키위    경기도  양주시  41630           41  2002\n",
       "2       20020101  오이    경기도  양주시  41630           41  2002\n",
       "3       20020101  작물    경기도  양주시  41630           41  2002\n",
       "4       20020101  딸기    경기도  양주시  41630           41  2002\n",
       "...          ...  ..    ...  ...    ...          ...   ...\n",
       "178334  20230425  배추  울산광역시  nan    nan           31  2023\n",
       "178335  20230425  대파  울산광역시  nan    nan           31  2023\n",
       "178336  20230425  작물  울산광역시  nan    nan           31  2023\n",
       "178337  20230425  양파  울산광역시  nan    nan           31  2023\n",
       "178338  20230425  작물   전라북도  정읍시  45180           45  2023\n",
       "\n",
       "[178339 rows x 7 columns]"
      ]
     },
     "execution_count": 139,
     "metadata": {},
     "output_type": "execute_result"
    }
   ],
   "source": [
    "result_df"
   ]
  },
  {
   "cell_type": "code",
   "execution_count": 140,
   "id": "fe2cec5b",
   "metadata": {
    "scrolled": false
   },
   "outputs": [],
   "source": [
    "result_df = result_df.groupby(['연도','시도','키워드']).size().unstack(fill_value=0).stack().to_frame()"
   ]
  },
  {
   "cell_type": "code",
   "execution_count": 141,
   "id": "7c168a72",
   "metadata": {},
   "outputs": [],
   "source": [
    "result_df = result_df.reset_index()\n",
    "result_df = result_df.rename({0:'value'}, axis = 1)"
   ]
  },
  {
   "cell_type": "code",
   "execution_count": 168,
   "id": "d2b5a051",
   "metadata": {},
   "outputs": [],
   "source": [
    "def resultNormalize(result_df, pt, region):\n",
    "    result_df_agg = pd.DataFrame(result_df.groupby(['연도','키워드']).sum('value').unstack(fill_value=0).stack()).reset_index()\n",
    "    region_df = result_df[result_df['시도'] == region][result_df['키워드'] == pt]\n",
    "    normalize_df = region_df.copy()\n",
    "    \n",
    "    idxs = []\n",
    "    for tmp in result_df_agg[result_df_agg['키워드'] == pt]['연도']:\n",
    "        idx = tmp in list(normalize_df['연도'])\n",
    "        idxs.append(idx)\n",
    "\n",
    "    normalize_df['value'] = region_df['value'].values / result_df_agg[result_df_agg['키워드'] == pt][idxs]['value'].values\n",
    "    return normalize_df\n",
    "\n"
   ]
  },
  {
   "cell_type": "code",
   "execution_count": 144,
   "id": "d516d1c3",
   "metadata": {},
   "outputs": [],
   "source": [
    "from scipy import stats\n",
    "\n",
    "def getslop(normalize_df):\n",
    "    x = [x + 1for x in range(0,len(normalize_df))]\n",
    "    y = normalize_df['value'].values\n",
    "    slope, intercept, r, p, std_err = stats.linregress(x, y)\n",
    "    return slope    "
   ]
  },
  {
   "cell_type": "code",
   "execution_count": 42,
   "id": "2ee971d5",
   "metadata": {},
   "outputs": [],
   "source": [
    "# 지도 시각화!"
   ]
  },
  {
   "cell_type": "code",
   "execution_count": 176,
   "id": "0227af11",
   "metadata": {},
   "outputs": [],
   "source": [
    "idxs = []\n",
    "regions = list(set(result_df['시도']))"
   ]
  },
  {
   "cell_type": "code",
   "execution_count": 177,
   "id": "fe016dc7",
   "metadata": {},
   "outputs": [
    {
     "name": "stderr",
     "output_type": "stream",
     "text": [
      "  0%|                                                                                           | 0/17 [00:00<?, ?it/s]C:\\Users\\NH\\AppData\\Local\\Temp\\ipykernel_9532\\1255731921.py:3: UserWarning: Boolean Series key will be reindexed to match DataFrame index.\n",
      "  region_df = result_df[result_df['시도'] == region][result_df['키워드'] == pt]\n",
      "C:\\Users\\NH\\AppData\\Local\\Temp\\ipykernel_9532\\1255731921.py:11: RuntimeWarning: invalid value encountered in divide\n",
      "  normalize_df['value'] = region_df['value'].values / result_df_agg[result_df_agg['키워드'] == pt][idxs]['value'].values\n",
      "100%|██████████████████████████████████████████████████████████████████████████████████| 17/17 [00:24<00:00,  1.44s/it]\n"
     ]
    }
   ],
   "source": [
    "slopes = []\n",
    "for region in tqdm(regions):\n",
    "    for pt in pt_list:\n",
    "        normalize_df = resultNormalize(result_df,pt,region)\n",
    "        slope = getslop(normalize_df) \n",
    "        idx = region+ ' ' + pt\n",
    "        \n",
    "        slopes.append(slope)\n",
    "        idxs.append(idx)"
   ]
  }
 ],
 "metadata": {
  "kernelspec": {
   "display_name": "Python 3 (ipykernel)",
   "language": "python",
   "name": "python3"
  },
  "language_info": {
   "codemirror_mode": {
    "name": "ipython",
    "version": 3
   },
   "file_extension": ".py",
   "mimetype": "text/x-python",
   "name": "python",
   "nbconvert_exporter": "python",
   "pygments_lexer": "ipython3",
   "version": "3.9.13"
  }
 },
 "nbformat": 4,
 "nbformat_minor": 5
}
