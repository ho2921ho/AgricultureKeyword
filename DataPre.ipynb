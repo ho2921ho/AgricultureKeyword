{
 "cells": [
  {
   "cell_type": "code",
   "execution_count": 1,
   "id": "43af2723",
   "metadata": {},
   "outputs": [],
   "source": [
    "from collections import Counter\n",
    "from datetime import datetime\n",
    "from dateutil.relativedelta import relativedelta\n",
    "import logging\n",
    "import re\n",
    "import numpy as np\n",
    "import pandas as pd\n",
    "import os\n",
    "import pickle"
   ]
  },
  {
   "cell_type": "code",
   "execution_count": 35,
   "id": "ea7bc479",
   "metadata": {},
   "outputs": [],
   "source": [
    "from scipy import stats"
   ]
  },
  {
   "cell_type": "code",
   "execution_count": 46,
   "id": "609baa25",
   "metadata": {},
   "outputs": [],
   "source": [
    "def get_slop(df):\n",
    "    x = [x + 1for x in range(0,len(list(df)))]\n",
    "    slopes = []\n",
    "    for i in df.values:\n",
    "        y = i\n",
    "        slope, intercept, r, p, std_err = stats.linregress(x, y)\n",
    "        slopes.append(slope)\n",
    "    return slopes"
   ]
  },
  {
   "cell_type": "code",
   "execution_count": 47,
   "id": "de1f3ac4",
   "metadata": {},
   "outputs": [],
   "source": [
    "def data_pro(data,from_date,to_date):\n",
    "    df = data.explode('keyword').reset_index(drop=True)\n",
    "    df = df.groupby(['date','keyword']).size().reset_index()\n",
    "    df = pd.pivot_table(df, index = ['keyword'], columns = 'date')\n",
    "    df = df.fillna(0)\n",
    "    df.columns = [x[1] for x in df.columns]\n",
    "    return df"
   ]
  },
  {
   "cell_type": "code",
   "execution_count": 48,
   "id": "71f0f9e0",
   "metadata": {},
   "outputs": [],
   "source": [
    "def DataKr(topic,from_date,to_date):\n",
    "    cwd = os.getcwd()\n",
    "    path = cwd +'/' + topic + '/raw'\n",
    "    file_list = os.listdir(path)\n",
    "    \n",
    "    dfs = []\n",
    "    for i in file_list:\n",
    "        df = pd.read_excel(path+'/'+i)\n",
    "        dfs.append(df)\n",
    "        print(i)\n",
    "    data = pd.concat(dfs)\n",
    "    print(\"총 기사 건 수 : \" + str(len(data)))  \n",
    "    \n",
    "    data = data[['뉴스 식별자','일자','제목','키워드','특성추출(가중치순 상위 50개)']]\n",
    "    cluster_mode = '특성추출(가중치순 상위 50개)'\n",
    "    corpus = data[cluster_mode].values.tolist()\n",
    "\n",
    "    data_k = data[['일자']]\n",
    "\n",
    "    for i, cp in enumerate(corpus):\n",
    "        corpus[i] = cp.split(',')\n",
    "    data_k['키워드'] = corpus\n",
    "    \n",
    "    df = data_k[['일자','키워드']]\n",
    "    df = df.rename({'키워드':'keyword','일자':'date'},axis = 1 )\n",
    "    df['date'] = [str(x)[0:6] for x in df['date']] \n",
    "    \n",
    "    df_k = data_pro(df,from_date,to_date)\n",
    "    df_k.to_csv(cwd +'/' + topic + '/'+ 'Monthly_Count_Keyword {}-{}.csv'.format(from_date,to_date),encoding=\"utf-8-sig\")\n",
    "\n",
    "    slopes = get_slop(df_k)\n",
    "    df_ks = df_k.copy()\n",
    "    df_ks['slope'] = slopes\n",
    "    df_ks.to_csv(cwd +'/' + topic + '/'+ 'Efficient_OLS_Keyword {}-{}.csv'.format(from_date,to_date),encoding=\"utf-8-sig\")"
   ]
  },
  {
   "cell_type": "code",
   "execution_count": 49,
   "id": "7d4ea3f2",
   "metadata": {
    "scrolled": true
   },
   "outputs": [
    {
     "name": "stderr",
     "output_type": "stream",
     "text": [
      "C:\\Users\\NH\\anaconda3\\lib\\site-packages\\openpyxl\\styles\\stylesheet.py:226: UserWarning: Workbook contains no default style, apply openpyxl's default\n",
      "  warn(\"Workbook contains no default style, apply openpyxl's default\")\n"
     ]
    },
    {
     "name": "stdout",
     "output_type": "stream",
     "text": [
      "NewsResult_20020101-20230430.xlsx\n",
      "총 기사 건 수 : 2677\n"
     ]
    },
    {
     "name": "stderr",
     "output_type": "stream",
     "text": [
      "C:\\Users\\NH\\AppData\\Local\\Temp\\ipykernel_23868\\1633714248.py:22: SettingWithCopyWarning: \n",
      "A value is trying to be set on a copy of a slice from a DataFrame.\n",
      "Try using .loc[row_indexer,col_indexer] = value instead\n",
      "\n",
      "See the caveats in the documentation: https://pandas.pydata.org/pandas-docs/stable/user_guide/indexing.html#returning-a-view-versus-a-copy\n",
      "  data_k['키워드'] = corpus\n"
     ]
    }
   ],
   "source": [
    "from_date = '20020101'\n",
    "to_date = '20230430'\n",
    "searching_word = '(농업 OR 농촌) AND 기후위기'\n",
    "\n",
    "DataKr(searching_word,from_date ,to_date)"
   ]
  },
  {
   "cell_type": "code",
   "execution_count": 50,
   "id": "dec5c18b",
   "metadata": {
    "scrolled": true
   },
   "outputs": [
    {
     "name": "stdout",
     "output_type": "stream",
     "text": [
      "NewsResult_20020101-20211231.xlsx\n",
      "NewsResult_20220101-20230430.xlsx\n",
      "총 기사 건 수 : 20904\n"
     ]
    },
    {
     "name": "stderr",
     "output_type": "stream",
     "text": [
      "C:\\Users\\NH\\AppData\\Local\\Temp\\ipykernel_23868\\1633714248.py:22: SettingWithCopyWarning: \n",
      "A value is trying to be set on a copy of a slice from a DataFrame.\n",
      "Try using .loc[row_indexer,col_indexer] = value instead\n",
      "\n",
      "See the caveats in the documentation: https://pandas.pydata.org/pandas-docs/stable/user_guide/indexing.html#returning-a-view-versus-a-copy\n",
      "  data_k['키워드'] = corpus\n"
     ]
    }
   ],
   "source": [
    "from_date = '20020101'\n",
    "to_date = '20230430'\n",
    "searching_word = '(농업 OR 농촌) AND 기후변화'\n",
    "\n",
    "DataKr(searching_word,from_date ,to_date)"
   ]
  }
 ],
 "metadata": {
  "kernelspec": {
   "display_name": "Python 3 (ipykernel)",
   "language": "python",
   "name": "python3"
  },
  "language_info": {
   "codemirror_mode": {
    "name": "ipython",
    "version": 3
   },
   "file_extension": ".py",
   "mimetype": "text/x-python",
   "name": "python",
   "nbconvert_exporter": "python",
   "pygments_lexer": "ipython3",
   "version": "3.9.13"
  }
 },
 "nbformat": 4,
 "nbformat_minor": 5
}
