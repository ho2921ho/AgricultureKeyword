{
 "cells": [
  {
   "cell_type": "code",
   "execution_count": 6,
   "id": "43af2723",
   "metadata": {},
   "outputs": [],
   "source": [
    "from collections import Counter"
   ]
  },
  {
   "cell_type": "code",
   "execution_count": 7,
   "id": "609baa25",
   "metadata": {},
   "outputs": [],
   "source": [
    "def get_slop(df2,from_date,to_date):\n",
    "    datelist = pd.date_range(start=from_date, end=to_date, freq = 'M').tolist()\n",
    "    dtlst = []\n",
    "    df = df2.copy()\n",
    "    for d_t in datelist:\n",
    "        d_t = str(d_t)[0:-9]\n",
    "        d = datetime.strptime(d_t, '%Y-%m-%d')\n",
    "        d = d.strftime('%Y%m')\n",
    "        dtlst.append(d)\n",
    "    for dt in dtlst:\n",
    "        df[dt] = df[dt][:-1]*10000 / df[dt][-1]\n",
    "    from scipy import stats\n",
    "\n",
    "    x = [x + 1for x in range(0,len(dtlst))]\n",
    "\n",
    "    slopes = []\n",
    "    for i in list(df.values):\n",
    "        y = i[:-1]\n",
    "        slope, intercept, r, p, std_err = stats.linregress(x, y)\n",
    "        slopes.append(slope)\n",
    "    df['slope'] = slopes\n",
    "    return df"
   ]
  },
  {
   "cell_type": "code",
   "execution_count": 8,
   "id": "de1f3ac4",
   "metadata": {},
   "outputs": [],
   "source": [
    "def data_pro(data,from_date,to_date):\n",
    "\n",
    "    df = data[['일자','키워드']]\n",
    "    df['일자'] = [str(x)[0:6] for x in df['일자']] \n",
    "\n",
    "    datelist = pd.date_range(start=from_date, end=to_date, freq = 'M').tolist()\n",
    "    dtlst = []\n",
    "\n",
    "    for d_t in datelist:\n",
    "        d_t = str(d_t)[0:-9]\n",
    "        d = datetime.strptime(d_t, '%Y-%m-%d')\n",
    "        d = d.strftime('%Y%m')\n",
    "        dtlst.append(d)\n",
    "\n",
    "    # 키워드 사전 \n",
    "    keyword_vocab = []\n",
    "    for i in df['키워드']:\n",
    "        keyword_vocab.extend(i)\n",
    "    keyword_vocab = list(set(keyword_vocab))\n",
    "\n",
    "    # 월별 카운팅 후 병합 # 병합하는 방식 수정해야함. 한달만 카운트는 현재 불가.\n",
    "\n",
    "    tmp_df_list = []\n",
    "    for dt in dtlst:\n",
    "        tmp = []\n",
    "        for i in df[df['일자']== dt]['키워드']:\n",
    "            tmp.extend(i)\n",
    "        tmp_df = pd.DataFrame(pd.Series(Counter(tmp)))\n",
    "        tmp_df = tmp_df.reset_index()\n",
    "        tmp_df = tmp_df.rename(columns = {0:'cnt','index':'keyword'})\n",
    "        tmp_df_list.append(tmp_df)\n",
    "\n",
    "    df = tmp_df_list[0].merge(tmp_df_list[1], on = 'keyword', how = 'outer')\n",
    "    for i in range(len(tmp_df_list)):\n",
    "        if i > 1:\n",
    "            df = df.merge(tmp_df_list[i], on = 'keyword', how = 'outer')\n",
    "    col = ['keyword'] + dtlst\n",
    "    df.columns = col\n",
    "\n",
    "    # 합산 값 만들기\n",
    "    df.index = df['keyword']\n",
    "    df = df.drop('keyword', axis = 1)\n",
    "    df['tot_cnt'] = df.sum(axis = 1)\n",
    "    df = df.T\n",
    "    df['year_cnt'] = df.sum(axis = 1)\n",
    "    df = df.T\n",
    "    df\n",
    "\n",
    "    # 결측치 처리\n",
    "    df =df.fillna(0)\n",
    "    return df"
   ]
  },
  {
   "cell_type": "code",
   "execution_count": 9,
   "id": "af29a61e",
   "metadata": {},
   "outputs": [
    {
     "data": {
      "text/plain": [
       "\"\\n하루단위로 하는 건 너무 대공사네....필요할 떄 하지\\ndf['con_text'] = df.groupby(['일자'])['키워드'].transform(lambda x: ','.join(x))\\ndf = df[['일자','con_text']].drop_duplicates()\\n\""
      ]
     },
     "execution_count": 9,
     "metadata": {},
     "output_type": "execute_result"
    }
   ],
   "source": [
    "'''\n",
    "하루단위로 하는 건 너무 대공사네....필요할 떄 하지\n",
    "df['con_text'] = df.groupby(['일자'])['키워드'].transform(lambda x: ','.join(x))\n",
    "df = df[['일자','con_text']].drop_duplicates()\n",
    "'''"
   ]
  },
  {
   "cell_type": "code",
   "execution_count": 10,
   "id": "166d7eac",
   "metadata": {},
   "outputs": [],
   "source": [
    "from datetime import datetime\n",
    "import logging\n",
    "import re\n",
    "import numpy as np\n",
    "import pandas as pd\n",
    "import os"
   ]
  },
  {
   "cell_type": "code",
   "execution_count": 11,
   "id": "71f0f9e0",
   "metadata": {},
   "outputs": [],
   "source": [
    "def DataKr(topic,from_date,to_date):\n",
    "    cwd = os.getcwd()\n",
    "    path = cwd +'/' + topic + '/raw'\n",
    "    file_list = os.listdir(path)\n",
    "    \n",
    "    dfs = []\n",
    "    for i in file_list:\n",
    "        df = pd.read_excel(path+'/'+i)\n",
    "        dfs.append(df)\n",
    "        print(i)\n",
    "    data = pd.concat(dfs)\n",
    "    print(\"총 기사 건 수 : \" + str(len(data)))  \n",
    "    \n",
    "    data = data[['뉴스 식별자','일자','제목','키워드','특성추출(가중치순 상위 50개)']]\n",
    "    cluster_mode = '특성추출(가중치순 상위 50개)'\n",
    "    corpus = data[cluster_mode].values.tolist()\n",
    "\n",
    "    data_k = data[['일자']]\n",
    "\n",
    "    for i, cp in enumerate(corpus):\n",
    "        corpus[i] = cp.split(',')\n",
    "    data_k['키워드'] = corpus\n",
    "    \n",
    "    df_k = data_pro(data_k,from_date,to_date)\n",
    "    df_k.to_csv(cwd +'/' + topic + '/'+ 'Monthly_Count_Keyword {}-{}.csv'.format(from_date,to_date),encoding=\"utf-8-sig\")\n",
    "\n",
    "    df_ks = get_slop(df_k,from_date,to_date)\n",
    "    df_ks.to_csv(cwd +'/' + topic + '/'+ 'Efficient_OLS_Keyword {}-{}.csv'.format(from_date,to_date),encoding=\"utf-8-sig\")"
   ]
  },
  {
   "cell_type": "code",
   "execution_count": 13,
   "id": "91727b78",
   "metadata": {
    "scrolled": true
   },
   "outputs": [
    {
     "name": "stderr",
     "output_type": "stream",
     "text": [
      "C:\\Users\\NH\\anaconda3\\lib\\site-packages\\openpyxl\\styles\\stylesheet.py:226: UserWarning: Workbook contains no default style, apply openpyxl's default\n",
      "  warn(\"Workbook contains no default style, apply openpyxl's default\")\n"
     ]
    },
    {
     "name": "stdout",
     "output_type": "stream",
     "text": [
      "NewsResult_20070101-20081231.xlsx\n",
      "NewsResult_20090101-20101231.xlsx\n",
      "NewsResult_20110101-20121231.xlsx\n",
      "NewsResult_20130101-20141231.xlsx\n",
      "NewsResult_20150101-20161231.xlsx\n",
      "NewsResult_20170101-20181231.xlsx\n",
      "NewsResult_20190101-20191231.xlsx\n",
      "NewsResult_20200101-20201231.xlsx\n",
      "NewsResult_20210101-20221231.xlsx\n",
      "총 기사 건 수 : 143481\n"
     ]
    },
    {
     "name": "stderr",
     "output_type": "stream",
     "text": [
      "C:\\Users\\NH\\AppData\\Local\\Temp\\ipykernel_25676\\4198301622.py:22: SettingWithCopyWarning: \n",
      "A value is trying to be set on a copy of a slice from a DataFrame.\n",
      "Try using .loc[row_indexer,col_indexer] = value instead\n",
      "\n",
      "See the caveats in the documentation: https://pandas.pydata.org/pandas-docs/stable/user_guide/indexing.html#returning-a-view-versus-a-copy\n",
      "  data_k['키워드'] = corpus\n",
      "C:\\Users\\NH\\anaconda3\\lib\\site-packages\\pandas\\core\\frame.py:9190: FutureWarning: Passing 'suffixes' which cause duplicate columns {'cnt_x'} in the result is deprecated and will raise a MergeError in a future version.\n",
      "  return merge(\n"
     ]
    }
   ],
   "source": [
    "DataKr('문제','20070101','20221231')"
   ]
  },
  {
   "cell_type": "code",
   "execution_count": 7,
   "id": "a9675e6a",
   "metadata": {
    "collapsed": true
   },
   "outputs": [
    {
     "name": "stderr",
     "output_type": "stream",
     "text": [
      "C:\\Users\\NH\\anaconda3\\lib\\site-packages\\openpyxl\\styles\\stylesheet.py:226: UserWarning: Workbook contains no default style, apply openpyxl's default\n",
      "  warn(\"Workbook contains no default style, apply openpyxl's default\")\n"
     ]
    },
    {
     "name": "stdout",
     "output_type": "stream",
     "text": [
      "NewsResult_20200101-20221231 (3).xlsx\n",
      "총 기사 건 수 : 1996\n"
     ]
    },
    {
     "name": "stderr",
     "output_type": "stream",
     "text": [
      "C:\\Users\\NH\\AppData\\Local\\Temp\\ipykernel_9208\\4198301622.py:22: SettingWithCopyWarning: \n",
      "A value is trying to be set on a copy of a slice from a DataFrame.\n",
      "Try using .loc[row_indexer,col_indexer] = value instead\n",
      "\n",
      "See the caveats in the documentation: https://pandas.pydata.org/pandas-docs/stable/user_guide/indexing.html#returning-a-view-versus-a-copy\n",
      "  data_k['키워드'] = corpus\n",
      "C:\\Users\\NH\\anaconda3\\lib\\site-packages\\pandas\\core\\frame.py:9190: FutureWarning: Passing 'suffixes' which cause duplicate columns {'cnt_x'} in the result is deprecated and will raise a MergeError in a future version.\n",
      "  return merge(\n"
     ]
    },
    {
     "name": "stdout",
     "output_type": "stream",
     "text": [
      "NewsResult_20200101-20221231 (1).xlsx\n",
      "총 기사 건 수 : 10386\n"
     ]
    }
   ],
   "source": [
    "DataKr('식량안보','20200101','20221231')\n",
    "DataKr('비용','20200101','20221231')\n"
   ]
  },
  {
   "cell_type": "code",
   "execution_count": null,
   "id": "49f5b729",
   "metadata": {},
   "outputs": [],
   "source": [
    "\n",
    "def DataEn(topic,from_date,to_date):\n",
    "    \n",
    "\n",
    "    cwd = os.getcwd()\n",
    "    main_path = cwd + '/' + topic\n",
    "    name = \"Keyword{}-{}.pickle\".format(from_date,to_date)\n",
    "    name = name.replace('/','.')\n",
    "    with open(main_path + '/' + 'keyword/' + name, 'rb') as f:\n",
    "        data_e = pickle.load(f)\n",
    "\n",
    "    df_k = data_pro(data_k,from_date,to_date)\n",
    "    df_k.to_csv(cwd +'/' + topic + '/'+ 'Monthly_Count_Keyword {}-{}.csv'.format(from_date,to_date),encoding=\"utf-8-sig\")\n",
    "\n",
    "    df_ks = get_slop(df_k,from_date,to_date)\n",
    "    df_ks.to_csv(cwd +'/' + topic + '/'+ 'Efficient_OLS_Keyword {}-{}.csv'.format(from_date,to_date),encoding=\"utf-8-sig\")"
   ]
  }
 ],
 "metadata": {
  "kernelspec": {
   "display_name": "Python 3 (ipykernel)",
   "language": "python",
   "name": "python3"
  },
  "language_info": {
   "codemirror_mode": {
    "name": "ipython",
    "version": 3
   },
   "file_extension": ".py",
   "mimetype": "text/x-python",
   "name": "python",
   "nbconvert_exporter": "python",
   "pygments_lexer": "ipython3",
   "version": "3.9.13"
  }
 },
 "nbformat": 4,
 "nbformat_minor": 5
}
