{
 "cells": [
  {
   "cell_type": "code",
   "execution_count": 158,
   "id": "02839b3c",
   "metadata": {},
   "outputs": [
    {
     "name": "stdout",
     "output_type": "stream",
     "text": [
      "Collecting chromedriver_autoinstaller\n",
      "  Downloading chromedriver_autoinstaller-0.4.0-py3-none-any.whl (6.5 kB)\n",
      "Installing collected packages: chromedriver_autoinstaller\n",
      "Successfully installed chromedriver_autoinstaller-0.4.0\n"
     ]
    }
   ],
   "source": [
    "!pip install chromedriver_autoinstaller"
   ]
  },
  {
   "cell_type": "code",
   "execution_count": 1,
   "id": "cf5509b1",
   "metadata": {
    "scrolled": true
   },
   "outputs": [
    {
     "name": "stdout",
     "output_type": "stream",
     "text": [
      "Requirement already satisfied: beautifulsoup4 in c:\\users\\nh\\anaconda3\\lib\\site-packages (4.11.1)\n",
      "Requirement already satisfied: soupsieve>1.2 in c:\\users\\nh\\anaconda3\\lib\\site-packages (from beautifulsoup4) (2.3.1)\n",
      "Requirement already satisfied: selenium in c:\\users\\nh\\anaconda3\\lib\\site-packages (4.7.2)\n",
      "Requirement already satisfied: urllib3[socks]~=1.26 in c:\\users\\nh\\anaconda3\\lib\\site-packages (from selenium) (1.26.11)\n",
      "Requirement already satisfied: trio~=0.17 in c:\\users\\nh\\anaconda3\\lib\\site-packages (from selenium) (0.22.0)\n",
      "Requirement already satisfied: certifi>=2021.10.8 in c:\\users\\nh\\anaconda3\\lib\\site-packages (from selenium) (2022.9.14)\n",
      "Requirement already satisfied: trio-websocket~=0.9 in c:\\users\\nh\\anaconda3\\lib\\site-packages (from selenium) (0.9.2)\n",
      "Requirement already satisfied: outcome in c:\\users\\nh\\anaconda3\\lib\\site-packages (from trio~=0.17->selenium) (1.2.0)\n",
      "Requirement already satisfied: cffi>=1.14 in c:\\users\\nh\\anaconda3\\lib\\site-packages (from trio~=0.17->selenium) (1.15.1)\n",
      "Requirement already satisfied: idna in c:\\users\\nh\\anaconda3\\lib\\site-packages (from trio~=0.17->selenium) (3.3)\n",
      "Requirement already satisfied: attrs>=19.2.0 in c:\\users\\nh\\anaconda3\\lib\\site-packages (from trio~=0.17->selenium) (21.4.0)\n",
      "Requirement already satisfied: exceptiongroup>=1.0.0rc9 in c:\\users\\nh\\anaconda3\\lib\\site-packages (from trio~=0.17->selenium) (1.1.0)\n",
      "Requirement already satisfied: sniffio in c:\\users\\nh\\anaconda3\\lib\\site-packages (from trio~=0.17->selenium) (1.2.0)\n",
      "Requirement already satisfied: sortedcontainers in c:\\users\\nh\\anaconda3\\lib\\site-packages (from trio~=0.17->selenium) (2.4.0)\n",
      "Requirement already satisfied: async-generator>=1.9 in c:\\users\\nh\\anaconda3\\lib\\site-packages (from trio~=0.17->selenium) (1.10)\n",
      "Requirement already satisfied: wsproto>=0.14 in c:\\users\\nh\\anaconda3\\lib\\site-packages (from trio-websocket~=0.9->selenium) (1.2.0)\n",
      "Requirement already satisfied: PySocks!=1.5.7,<2.0,>=1.5.6 in c:\\users\\nh\\anaconda3\\lib\\site-packages (from urllib3[socks]~=1.26->selenium) (1.7.1)\n",
      "Requirement already satisfied: pycparser in c:\\users\\nh\\anaconda3\\lib\\site-packages (from cffi>=1.14->trio~=0.17->selenium) (2.21)\n",
      "Requirement already satisfied: h11<1,>=0.9.0 in c:\\users\\nh\\anaconda3\\lib\\site-packages (from wsproto>=0.14->trio-websocket~=0.9->selenium) (0.14.0)\n",
      "Requirement already satisfied: newspaper3k in c:\\users\\nh\\anaconda3\\lib\\site-packages (0.2.8)\n",
      "Requirement already satisfied: Pillow>=3.3.0 in c:\\users\\nh\\anaconda3\\lib\\site-packages (from newspaper3k) (9.2.0)\n",
      "Requirement already satisfied: lxml>=3.6.0 in c:\\users\\nh\\anaconda3\\lib\\site-packages (from newspaper3k) (4.9.1)\n",
      "Requirement already satisfied: beautifulsoup4>=4.4.1 in c:\\users\\nh\\anaconda3\\lib\\site-packages (from newspaper3k) (4.11.1)\n",
      "Requirement already satisfied: tldextract>=2.0.1 in c:\\users\\nh\\anaconda3\\lib\\site-packages (from newspaper3k) (3.2.0)\n",
      "Requirement already satisfied: feedfinder2>=0.0.4 in c:\\users\\nh\\anaconda3\\lib\\site-packages (from newspaper3k) (0.0.4)\n",
      "Requirement already satisfied: PyYAML>=3.11 in c:\\users\\nh\\anaconda3\\lib\\site-packages (from newspaper3k) (6.0)\n",
      "Requirement already satisfied: feedparser>=5.2.1 in c:\\users\\nh\\anaconda3\\lib\\site-packages (from newspaper3k) (6.0.10)\n",
      "Requirement already satisfied: python-dateutil>=2.5.3 in c:\\users\\nh\\anaconda3\\lib\\site-packages (from newspaper3k) (2.8.2)\n",
      "Requirement already satisfied: requests>=2.10.0 in c:\\users\\nh\\anaconda3\\lib\\site-packages (from newspaper3k) (2.28.1)\n",
      "Requirement already satisfied: jieba3k>=0.35.1 in c:\\users\\nh\\anaconda3\\lib\\site-packages (from newspaper3k) (0.35.1)\n",
      "Requirement already satisfied: cssselect>=0.9.2 in c:\\users\\nh\\anaconda3\\lib\\site-packages (from newspaper3k) (1.1.0)\n",
      "Requirement already satisfied: nltk>=3.2.1 in c:\\users\\nh\\anaconda3\\lib\\site-packages (from newspaper3k) (3.7)\n",
      "Requirement already satisfied: tinysegmenter==0.3 in c:\\users\\nh\\anaconda3\\lib\\site-packages (from newspaper3k) (0.3)\n",
      "Requirement already satisfied: soupsieve>1.2 in c:\\users\\nh\\anaconda3\\lib\\site-packages (from beautifulsoup4>=4.4.1->newspaper3k) (2.3.1)\n",
      "Requirement already satisfied: six in c:\\users\\nh\\anaconda3\\lib\\site-packages (from feedfinder2>=0.0.4->newspaper3k) (1.16.0)\n",
      "Requirement already satisfied: sgmllib3k in c:\\users\\nh\\anaconda3\\lib\\site-packages (from feedparser>=5.2.1->newspaper3k) (1.0.0)\n",
      "Requirement already satisfied: tqdm in c:\\users\\nh\\anaconda3\\lib\\site-packages (from nltk>=3.2.1->newspaper3k) (4.64.1)\n",
      "Requirement already satisfied: joblib in c:\\users\\nh\\anaconda3\\lib\\site-packages (from nltk>=3.2.1->newspaper3k) (1.1.0)\n",
      "Requirement already satisfied: regex>=2021.8.3 in c:\\users\\nh\\anaconda3\\lib\\site-packages (from nltk>=3.2.1->newspaper3k) (2022.7.9)\n",
      "Requirement already satisfied: click in c:\\users\\nh\\anaconda3\\lib\\site-packages (from nltk>=3.2.1->newspaper3k) (8.0.4)\n",
      "Requirement already satisfied: charset-normalizer<3,>=2 in c:\\users\\nh\\anaconda3\\lib\\site-packages (from requests>=2.10.0->newspaper3k) (2.0.4)\n",
      "Requirement already satisfied: certifi>=2017.4.17 in c:\\users\\nh\\anaconda3\\lib\\site-packages (from requests>=2.10.0->newspaper3k) (2022.9.14)\n",
      "Requirement already satisfied: idna<4,>=2.5 in c:\\users\\nh\\anaconda3\\lib\\site-packages (from requests>=2.10.0->newspaper3k) (3.3)\n",
      "Requirement already satisfied: urllib3<1.27,>=1.21.1 in c:\\users\\nh\\anaconda3\\lib\\site-packages (from requests>=2.10.0->newspaper3k) (1.26.11)\n",
      "Requirement already satisfied: requests-file>=1.4 in c:\\users\\nh\\anaconda3\\lib\\site-packages (from tldextract>=2.0.1->newspaper3k) (1.5.1)\n",
      "Requirement already satisfied: filelock>=3.0.8 in c:\\users\\nh\\anaconda3\\lib\\site-packages (from tldextract>=2.0.1->newspaper3k) (3.6.0)\n",
      "Requirement already satisfied: colorama in c:\\users\\nh\\anaconda3\\lib\\site-packages (from click->nltk>=3.2.1->newspaper3k) (0.4.5)\n"
     ]
    }
   ],
   "source": [
    "!pip3 install beautifulsoup4\n",
    "!pip install selenium\n",
    "!pip install newspaper3k\n",
    "!pip3 install keybert\n",
    "nltk.download('all')"
   ]
  },
  {
   "cell_type": "code",
   "execution_count": 1,
   "id": "764b4390",
   "metadata": {},
   "outputs": [],
   "source": [
    "import requests \n",
    "from bs4 import BeautifulSoup\n",
    "import re\n",
    "from tqdm import tqdm\n",
    "import time\n",
    "import numpy\n",
    "import random\n",
    "import pickle\n",
    "import selenium\n",
    "from selenium import webdriver\n",
    "from selenium.webdriver.common.by import By\n",
    "from datetime import datetime\n",
    "import pandas as pd\n",
    "from newspaper import Article\n",
    "import os\n",
    "import nltk"
   ]
  },
  {
   "cell_type": "code",
   "execution_count": 5,
   "id": "c45d7d93",
   "metadata": {},
   "outputs": [
    {
     "ename": "PermissionError",
     "evalue": "[WinError 32] 다른 프로세스가 파일을 사용 중이기 때문에 프로세스가 액세스 할 수 없습니다: 'c:\\\\chrometemp\\\\Default\\\\Affiliation Database'",
     "output_type": "error",
     "traceback": [
      "\u001b[1;31m---------------------------------------------------------------------------\u001b[0m",
      "\u001b[1;31mPermissionError\u001b[0m                           Traceback (most recent call last)",
      "\u001b[1;32m~\\AppData\\Local\\Temp\\ipykernel_8596\\1447849451.py\u001b[0m in \u001b[0;36m<module>\u001b[1;34m\u001b[0m\n\u001b[0;32m      5\u001b[0m \u001b[1;33m\u001b[0m\u001b[0m\n\u001b[0;32m      6\u001b[0m \u001b[1;32mtry\u001b[0m\u001b[1;33m:\u001b[0m\u001b[1;33m\u001b[0m\u001b[1;33m\u001b[0m\u001b[0m\n\u001b[1;32m----> 7\u001b[1;33m     \u001b[0mshutil\u001b[0m\u001b[1;33m.\u001b[0m\u001b[0mrmtree\u001b[0m\u001b[1;33m(\u001b[0m\u001b[1;34mr\"c:\\chrometemp\"\u001b[0m\u001b[1;33m)\u001b[0m  \u001b[1;31m#쿠키 / 캐쉬파일 삭제\u001b[0m\u001b[1;33m\u001b[0m\u001b[1;33m\u001b[0m\u001b[0m\n\u001b[0m\u001b[0;32m      8\u001b[0m \u001b[1;32mexcept\u001b[0m \u001b[0mFileNotFoundError\u001b[0m\u001b[1;33m:\u001b[0m\u001b[1;33m\u001b[0m\u001b[1;33m\u001b[0m\u001b[0m\n\u001b[0;32m      9\u001b[0m     \u001b[1;32mpass\u001b[0m\u001b[1;33m\u001b[0m\u001b[1;33m\u001b[0m\u001b[0m\n",
      "\u001b[1;32m~\\anaconda3\\lib\\shutil.py\u001b[0m in \u001b[0;36mrmtree\u001b[1;34m(path, ignore_errors, onerror)\u001b[0m\n\u001b[0;32m    757\u001b[0m             \u001b[1;31m# can't continue even if onerror hook returns\u001b[0m\u001b[1;33m\u001b[0m\u001b[1;33m\u001b[0m\u001b[0m\n\u001b[0;32m    758\u001b[0m             \u001b[1;32mreturn\u001b[0m\u001b[1;33m\u001b[0m\u001b[1;33m\u001b[0m\u001b[0m\n\u001b[1;32m--> 759\u001b[1;33m         \u001b[1;32mreturn\u001b[0m \u001b[0m_rmtree_unsafe\u001b[0m\u001b[1;33m(\u001b[0m\u001b[0mpath\u001b[0m\u001b[1;33m,\u001b[0m \u001b[0monerror\u001b[0m\u001b[1;33m)\u001b[0m\u001b[1;33m\u001b[0m\u001b[1;33m\u001b[0m\u001b[0m\n\u001b[0m\u001b[0;32m    760\u001b[0m \u001b[1;33m\u001b[0m\u001b[0m\n\u001b[0;32m    761\u001b[0m \u001b[1;31m# Allow introspection of whether or not the hardening against symlink\u001b[0m\u001b[1;33m\u001b[0m\u001b[1;33m\u001b[0m\u001b[0m\n",
      "\u001b[1;32m~\\anaconda3\\lib\\shutil.py\u001b[0m in \u001b[0;36m_rmtree_unsafe\u001b[1;34m(path, onerror)\u001b[0m\n\u001b[0;32m    622\u001b[0m                 \u001b[0monerror\u001b[0m\u001b[1;33m(\u001b[0m\u001b[0mos\u001b[0m\u001b[1;33m.\u001b[0m\u001b[0mpath\u001b[0m\u001b[1;33m.\u001b[0m\u001b[0mislink\u001b[0m\u001b[1;33m,\u001b[0m \u001b[0mfullname\u001b[0m\u001b[1;33m,\u001b[0m \u001b[0msys\u001b[0m\u001b[1;33m.\u001b[0m\u001b[0mexc_info\u001b[0m\u001b[1;33m(\u001b[0m\u001b[1;33m)\u001b[0m\u001b[1;33m)\u001b[0m\u001b[1;33m\u001b[0m\u001b[1;33m\u001b[0m\u001b[0m\n\u001b[0;32m    623\u001b[0m                 \u001b[1;32mcontinue\u001b[0m\u001b[1;33m\u001b[0m\u001b[1;33m\u001b[0m\u001b[0m\n\u001b[1;32m--> 624\u001b[1;33m             \u001b[0m_rmtree_unsafe\u001b[0m\u001b[1;33m(\u001b[0m\u001b[0mfullname\u001b[0m\u001b[1;33m,\u001b[0m \u001b[0monerror\u001b[0m\u001b[1;33m)\u001b[0m\u001b[1;33m\u001b[0m\u001b[1;33m\u001b[0m\u001b[0m\n\u001b[0m\u001b[0;32m    625\u001b[0m         \u001b[1;32melse\u001b[0m\u001b[1;33m:\u001b[0m\u001b[1;33m\u001b[0m\u001b[1;33m\u001b[0m\u001b[0m\n\u001b[0;32m    626\u001b[0m             \u001b[1;32mtry\u001b[0m\u001b[1;33m:\u001b[0m\u001b[1;33m\u001b[0m\u001b[1;33m\u001b[0m\u001b[0m\n",
      "\u001b[1;32m~\\anaconda3\\lib\\shutil.py\u001b[0m in \u001b[0;36m_rmtree_unsafe\u001b[1;34m(path, onerror)\u001b[0m\n\u001b[0;32m    627\u001b[0m                 \u001b[0mos\u001b[0m\u001b[1;33m.\u001b[0m\u001b[0munlink\u001b[0m\u001b[1;33m(\u001b[0m\u001b[0mfullname\u001b[0m\u001b[1;33m)\u001b[0m\u001b[1;33m\u001b[0m\u001b[1;33m\u001b[0m\u001b[0m\n\u001b[0;32m    628\u001b[0m             \u001b[1;32mexcept\u001b[0m \u001b[0mOSError\u001b[0m\u001b[1;33m:\u001b[0m\u001b[1;33m\u001b[0m\u001b[1;33m\u001b[0m\u001b[0m\n\u001b[1;32m--> 629\u001b[1;33m                 \u001b[0monerror\u001b[0m\u001b[1;33m(\u001b[0m\u001b[0mos\u001b[0m\u001b[1;33m.\u001b[0m\u001b[0munlink\u001b[0m\u001b[1;33m,\u001b[0m \u001b[0mfullname\u001b[0m\u001b[1;33m,\u001b[0m \u001b[0msys\u001b[0m\u001b[1;33m.\u001b[0m\u001b[0mexc_info\u001b[0m\u001b[1;33m(\u001b[0m\u001b[1;33m)\u001b[0m\u001b[1;33m)\u001b[0m\u001b[1;33m\u001b[0m\u001b[1;33m\u001b[0m\u001b[0m\n\u001b[0m\u001b[0;32m    630\u001b[0m     \u001b[1;32mtry\u001b[0m\u001b[1;33m:\u001b[0m\u001b[1;33m\u001b[0m\u001b[1;33m\u001b[0m\u001b[0m\n\u001b[0;32m    631\u001b[0m         \u001b[0mos\u001b[0m\u001b[1;33m.\u001b[0m\u001b[0mrmdir\u001b[0m\u001b[1;33m(\u001b[0m\u001b[0mpath\u001b[0m\u001b[1;33m)\u001b[0m\u001b[1;33m\u001b[0m\u001b[1;33m\u001b[0m\u001b[0m\n",
      "\u001b[1;32m~\\anaconda3\\lib\\shutil.py\u001b[0m in \u001b[0;36m_rmtree_unsafe\u001b[1;34m(path, onerror)\u001b[0m\n\u001b[0;32m    625\u001b[0m         \u001b[1;32melse\u001b[0m\u001b[1;33m:\u001b[0m\u001b[1;33m\u001b[0m\u001b[1;33m\u001b[0m\u001b[0m\n\u001b[0;32m    626\u001b[0m             \u001b[1;32mtry\u001b[0m\u001b[1;33m:\u001b[0m\u001b[1;33m\u001b[0m\u001b[1;33m\u001b[0m\u001b[0m\n\u001b[1;32m--> 627\u001b[1;33m                 \u001b[0mos\u001b[0m\u001b[1;33m.\u001b[0m\u001b[0munlink\u001b[0m\u001b[1;33m(\u001b[0m\u001b[0mfullname\u001b[0m\u001b[1;33m)\u001b[0m\u001b[1;33m\u001b[0m\u001b[1;33m\u001b[0m\u001b[0m\n\u001b[0m\u001b[0;32m    628\u001b[0m             \u001b[1;32mexcept\u001b[0m \u001b[0mOSError\u001b[0m\u001b[1;33m:\u001b[0m\u001b[1;33m\u001b[0m\u001b[1;33m\u001b[0m\u001b[0m\n\u001b[0;32m    629\u001b[0m                 \u001b[0monerror\u001b[0m\u001b[1;33m(\u001b[0m\u001b[0mos\u001b[0m\u001b[1;33m.\u001b[0m\u001b[0munlink\u001b[0m\u001b[1;33m,\u001b[0m \u001b[0mfullname\u001b[0m\u001b[1;33m,\u001b[0m \u001b[0msys\u001b[0m\u001b[1;33m.\u001b[0m\u001b[0mexc_info\u001b[0m\u001b[1;33m(\u001b[0m\u001b[1;33m)\u001b[0m\u001b[1;33m)\u001b[0m\u001b[1;33m\u001b[0m\u001b[1;33m\u001b[0m\u001b[0m\n",
      "\u001b[1;31mPermissionError\u001b[0m: [WinError 32] 다른 프로세스가 파일을 사용 중이기 때문에 프로세스가 액세스 할 수 없습니다: 'c:\\\\chrometemp\\\\Default\\\\Affiliation Database'"
     ]
    }
   ],
   "source": [
    "from selenium.webdriver.chrome.options import Options\n",
    "import chromedriver_autoinstaller\n",
    "import subprocess\n",
    "import shutil\n",
    "\n",
    "try:\n",
    "    shutil.rmtree(r\"c:\\chrometemp\")  #쿠키 / 캐쉬파일 삭제\n",
    "except FileNotFoundError:\n",
    "    pass\n",
    "\n",
    "subprocess.Popen(r'C:\\Program Files\\Google\\Chrome\\Application\\chrome.exe --remote-debugging-port=9222 --user-data-dir=\"C:\\chrometemp\"') # 디버거 크롬 구동\n",
    "\n",
    "\n",
    "option = Options()\n",
    "option.add_experimental_option(\"debuggerAddress\", \"127.0.0.1:9222\")\n",
    "\n",
    "chrome_ver = chromedriver_autoinstaller.get_chrome_version().split('.')[0]\n",
    "try:\n",
    "    driver = webdriver.Chrome(f'./{chrome_ver}/chromedriver.exe', options=option)\n",
    "except:\n",
    "    chromedriver_autoinstaller.install(True)\n",
    "    driver = webdriver.Chrome(f'./{chrome_ver}/chromedriver.exe', options=option)\n",
    "driver.implicitly_wait(10)"
   ]
  },
  {
   "cell_type": "code",
   "execution_count": 2,
   "id": "f2859913",
   "metadata": {},
   "outputs": [],
   "source": [
    "from_date = '20230214'\n",
    "to_date = '20230214'\n",
    "searching_word = 'economy'\n",
    "cwd = os.getcwd()\n",
    "main_path = cwd + '/' + searching_word"
   ]
  },
  {
   "cell_type": "code",
   "execution_count": 4,
   "id": "9a3eb69e",
   "metadata": {
    "scrolled": true
   },
   "outputs": [
    {
     "name": "stderr",
     "output_type": "stream",
     "text": [
      "  0%|                                                                                            | 0/1 [00:00<?, ?it/s]\n"
     ]
    },
    {
     "name": "stdout",
     "output_type": "stream",
     "text": [
      "2/14/2023 Url 수집 시작\n"
     ]
    },
    {
     "ename": "NameError",
     "evalue": "name 'driver' is not defined",
     "output_type": "error",
     "traceback": [
      "\u001b[1;31m---------------------------------------------------------------------------\u001b[0m",
      "\u001b[1;31mNameError\u001b[0m                                 Traceback (most recent call last)",
      "\u001b[1;32m~\\AppData\\Local\\Temp\\ipykernel_1252\\1485611859.py\u001b[0m in \u001b[0;36m<module>\u001b[1;34m\u001b[0m\n\u001b[0;32m     48\u001b[0m \u001b[1;32mfor\u001b[0m \u001b[0mdate\u001b[0m \u001b[1;32min\u001b[0m \u001b[0mtqdm\u001b[0m\u001b[1;33m(\u001b[0m\u001b[0mdtlst\u001b[0m\u001b[1;33m)\u001b[0m\u001b[1;33m:\u001b[0m\u001b[1;33m\u001b[0m\u001b[1;33m\u001b[0m\u001b[0m\n\u001b[0;32m     49\u001b[0m     \u001b[0mprint\u001b[0m\u001b[1;33m(\u001b[0m\u001b[0mdate\u001b[0m\u001b[1;33m,\u001b[0m\u001b[1;34m'Url 수집 시작'\u001b[0m\u001b[1;33m)\u001b[0m\u001b[1;33m\u001b[0m\u001b[1;33m\u001b[0m\u001b[0m\n\u001b[1;32m---> 50\u001b[1;33m     \u001b[0murls\u001b[0m \u001b[1;33m=\u001b[0m \u001b[0mpage2url\u001b[0m\u001b[1;33m(\u001b[0m\u001b[0msearching_word\u001b[0m\u001b[1;33m,\u001b[0m\u001b[0mdate\u001b[0m\u001b[1;33m)\u001b[0m\u001b[1;33m\u001b[0m\u001b[1;33m\u001b[0m\u001b[0m\n\u001b[0m\u001b[0;32m     51\u001b[0m     \u001b[0mUrls\u001b[0m\u001b[1;33m[\u001b[0m\u001b[0mdate\u001b[0m\u001b[1;33m]\u001b[0m \u001b[1;33m=\u001b[0m \u001b[0murls\u001b[0m\u001b[1;33m\u001b[0m\u001b[1;33m\u001b[0m\u001b[0m\n\u001b[0;32m     52\u001b[0m \u001b[1;33m\u001b[0m\u001b[0m\n",
      "\u001b[1;32m~\\AppData\\Local\\Temp\\ipykernel_1252\\1485611859.py\u001b[0m in \u001b[0;36mpage2url\u001b[1;34m(searching_word, date)\u001b[0m\n\u001b[0;32m     18\u001b[0m     \u001b[1;32mfor\u001b[0m \u001b[0mstart\u001b[0m \u001b[1;32min\u001b[0m \u001b[0mrange\u001b[0m\u001b[1;33m(\u001b[0m\u001b[1;36m0\u001b[0m\u001b[1;33m,\u001b[0m \u001b[1;36m360\u001b[0m\u001b[1;33m,\u001b[0m \u001b[1;36m10\u001b[0m\u001b[1;33m)\u001b[0m\u001b[1;33m:\u001b[0m\u001b[1;33m\u001b[0m\u001b[1;33m\u001b[0m\u001b[0m\n\u001b[0;32m     19\u001b[0m         \u001b[0mmain_url\u001b[0m \u001b[1;33m=\u001b[0m \u001b[1;34m'https://www.google.co.kr/search?q={}&tbs=cdr:1,cd_min:{},cd_max:{}&tbm=nws&ei=dPP-Yu_eCJLL-Qb55bvQDA&start={}&sa=N&ved=2ahUKEwjv6Lvy69H5AhWSZd4KHfnyDso4ChDy0wN6BAgBEDk&biw=1536&bih=754&dpr=1.25'\u001b[0m\u001b[1;33m.\u001b[0m\u001b[0mformat\u001b[0m\u001b[1;33m(\u001b[0m\u001b[0msearching_word\u001b[0m\u001b[1;33m,\u001b[0m\u001b[0mdate\u001b[0m\u001b[1;33m,\u001b[0m\u001b[0mdate\u001b[0m\u001b[1;33m,\u001b[0m\u001b[0mstart\u001b[0m\u001b[1;33m)\u001b[0m\u001b[1;33m\u001b[0m\u001b[1;33m\u001b[0m\u001b[0m\n\u001b[1;32m---> 20\u001b[1;33m         \u001b[0mdriver\u001b[0m\u001b[1;33m.\u001b[0m\u001b[0mget\u001b[0m\u001b[1;33m(\u001b[0m\u001b[0murl\u001b[0m\u001b[1;33m=\u001b[0m\u001b[0mmain_url\u001b[0m\u001b[1;33m)\u001b[0m\u001b[1;33m\u001b[0m\u001b[1;33m\u001b[0m\u001b[0m\n\u001b[0m\u001b[0;32m     21\u001b[0m         \u001b[0melements\u001b[0m \u001b[1;33m=\u001b[0m \u001b[0mdriver\u001b[0m\u001b[1;33m.\u001b[0m\u001b[0mfind_elements\u001b[0m\u001b[1;33m(\u001b[0m\u001b[0mBy\u001b[0m\u001b[1;33m.\u001b[0m\u001b[0mTAG_NAME\u001b[0m\u001b[1;33m,\u001b[0m \u001b[1;34m'a'\u001b[0m\u001b[1;33m)\u001b[0m\u001b[1;33m\u001b[0m\u001b[1;33m\u001b[0m\u001b[0m\n\u001b[0;32m     22\u001b[0m         \u001b[0mlnks\u001b[0m \u001b[1;33m=\u001b[0m \u001b[1;33m[\u001b[0m\u001b[1;33m]\u001b[0m\u001b[1;33m\u001b[0m\u001b[1;33m\u001b[0m\u001b[0m\n",
      "\u001b[1;31mNameError\u001b[0m: name 'driver' is not defined"
     ]
    }
   ],
   "source": [
    "def createFolder(directory):\n",
    "    try:\n",
    "        if not os.path.exists(directory):\n",
    "            os.makedirs(directory)\n",
    "    except OSError:\n",
    "        print ('Error: Creating directory. ' +  directory)\n",
    "\n",
    "createFolder(main_path)\n",
    "createFolder(main_path + '/' + 'url')\n",
    "createFolder(main_path + '/' + 'news_backup')\n",
    "createFolder(main_path + '/' + 'news')\n",
    "createFolder(main_path + '/' + 'keyword')\n",
    "\n",
    "# 1 키워드 검색 뉴스 url 수집\n",
    "def page2url(searching_word,date):\n",
    "    searching_word = '\"{}\"'.format(searching_word)\n",
    "    urls = []\n",
    "    for start in range(0, 360, 10):\n",
    "        main_url = 'https://www.google.co.kr/search?q={}&tbs=cdr:1,cd_min:{},cd_max:{}&tbm=nws&ei=dPP-Yu_eCJLL-Qb55bvQDA&start={}&sa=N&ved=2ahUKEwjv6Lvy69H5AhWSZd4KHfnyDso4ChDy0wN6BAgBEDk&biw=1536&bih=754&dpr=1.25'.format(searching_word,date,date,start)\n",
    "        driver.get(url=main_url)\n",
    "        elements = driver.find_elements(By.TAG_NAME, 'a')\n",
    "        lnks = []\n",
    "        for lnk in elements:\n",
    "            lnk = str(lnk.get_attribute('href'))\n",
    "            if 'google' not in lnk and lnk != 'None':\n",
    "                lnks.append(lnk)\n",
    "        if len(lnks) == 0:\n",
    "            print(date, ' Url 수집 완료')\n",
    "            break\n",
    "        urls.extend(lnks)\n",
    "        rand_value =random.uniform(4, 10)\n",
    "        time.sleep(rand_value)\n",
    "        \n",
    "    return urls\n",
    "\n",
    "datelist = pd.date_range(start=from_date, end=to_date).tolist()\n",
    "dtlst = []\n",
    "for d_t in datelist:\n",
    "    d_t = str(d_t)[0:-9]\n",
    "    d = datetime.strptime(d_t, '%Y%m%d')\n",
    "    d = d.strftime('%m/%d/%Y')\n",
    "    d = d[0].replace('0','') + d[1:]\n",
    "    d = d[:-7] + d[-7].replace('0','') + d[-6:]\n",
    "    dtlst.append(d)\n",
    "    \n",
    "    \n",
    "Urls = dict()\n",
    "for date in tqdm(dtlst):\n",
    "    print(date,'Url 수집 시작')\n",
    "    urls = page2url(searching_word,date)\n",
    "    Urls[date] = urls\n",
    "    \n",
    "name = \"Urls{}-{}.pickle\".format(from_date,to_date)\n",
    "name = name.replace('/','.')\n",
    "\n",
    "with open(main_path + '/' + 'url/' + name,'wb') as f:\n",
    "    pickle.dump(Urls,f)\n"
   ]
  },
  {
   "cell_type": "code",
   "execution_count": 49,
   "id": "4e592dd2",
   "metadata": {},
   "outputs": [
    {
     "name": "stdout",
     "output_type": "stream",
     "text": [
      "2/14/2023 크롤링 시작\n"
     ]
    },
    {
     "name": "stderr",
     "output_type": "stream",
     "text": [
      "7it [00:10,  1.51s/it]"
     ]
    },
    {
     "name": "stdout",
     "output_type": "stream",
     "text": [
      "https://simpleflying.com/klm-economy-berlin-amsterdam-review/\n"
     ]
    },
    {
     "name": "stderr",
     "output_type": "stream",
     "text": [
      "15it [00:17,  1.01s/it]"
     ]
    },
    {
     "name": "stdout",
     "output_type": "stream",
     "text": [
      "https://www.mmh.com/article/enabling_the_circular_economy\n"
     ]
    },
    {
     "name": "stderr",
     "output_type": "stream",
     "text": [
      "33it [00:44,  2.95s/it]"
     ]
    },
    {
     "name": "stdout",
     "output_type": "stream",
     "text": [
      "https://newsonair.com/2023/02/14/first-meeting-of-digital-economy-working-group-continues-its-momentum-on-second-day/\n"
     ]
    },
    {
     "name": "stderr",
     "output_type": "stream",
     "text": [
      "38it [00:49,  1.39s/it]"
     ]
    },
    {
     "name": "stdout",
     "output_type": "stream",
     "text": [
      "https://thefintechtimes.com/ezypay-connects-the-dots-to-develop-the-subscription-economy-in-south-korea/\n"
     ]
    },
    {
     "name": "stderr",
     "output_type": "stream",
     "text": [
      "51it [01:12,  1.67s/it]"
     ]
    },
    {
     "name": "stdout",
     "output_type": "stream",
     "text": [
      "https://www.thelocal.dk/20230214/denmarks-economy-grew-by-3-4-percent-in-2022-statistics-agency/\n"
     ]
    },
    {
     "name": "stderr",
     "output_type": "stream",
     "text": [
      "91it [02:15,  1.34s/it]"
     ]
    },
    {
     "name": "stdout",
     "output_type": "stream",
     "text": [
      "https://www.bizjournals.com/birmingham/news/2023/02/14/accs-adds-66b-to-state-economy.html\n"
     ]
    },
    {
     "name": "stderr",
     "output_type": "stream",
     "text": [
      "101it [02:31,  1.09s/it]"
     ]
    },
    {
     "name": "stdout",
     "output_type": "stream",
     "text": [
      "https://www.pymnts.com/economy/2023/wells-fargo-cfo-economy-will-worsen-as-2023-goes-on/\n"
     ]
    },
    {
     "name": "stderr",
     "output_type": "stream",
     "text": [
      "108it [02:41,  1.27s/it]"
     ]
    },
    {
     "name": "stdout",
     "output_type": "stream",
     "text": [
      "https://www.graphic.com.gh/business/business-news/bog-throws-lifeline-to-economy.html\n"
     ]
    },
    {
     "name": "stderr",
     "output_type": "stream",
     "text": [
      "111it [02:45,  1.16s/it]"
     ]
    },
    {
     "name": "stdout",
     "output_type": "stream",
     "text": [
      "https://www.nst.com.my/news/nation/2023/02/879837/our-economy-recovering-still-slow-says-johari\n"
     ]
    },
    {
     "name": "stderr",
     "output_type": "stream",
     "text": [
      "114it [02:47,  1.04it/s]"
     ]
    },
    {
     "name": "stdout",
     "output_type": "stream",
     "text": [
      "https://borneobulletin.com.bn/think-tank-sees-bright-spots-in-bruneis-economy-2/\n"
     ]
    },
    {
     "name": "stderr",
     "output_type": "stream",
     "text": [
      "118it [02:54,  1.27s/it]"
     ]
    },
    {
     "name": "stdout",
     "output_type": "stream",
     "text": [
      "https://www.abc.net.au/news/programs/the-business/2023-02-14/the-us-economy-is-slowing/101974076\n"
     ]
    },
    {
     "name": "stderr",
     "output_type": "stream",
     "text": [
      "130it [03:09,  1.20s/it]"
     ]
    },
    {
     "name": "stdout",
     "output_type": "stream",
     "text": [
      "https://www.bizjournals.com/denver/news/2023/02/14/estes-park-lodgers-tax-workforce-housing-childcare.html\n"
     ]
    },
    {
     "name": "stderr",
     "output_type": "stream",
     "text": [
      "134it [03:13,  1.07it/s]"
     ]
    },
    {
     "name": "stdout",
     "output_type": "stream",
     "text": [
      "https://www.vanguardngr.com/2023/02/atikull-turn-nigeria-from-consumption-to-production-economy-reno-omokri/\n"
     ]
    },
    {
     "name": "stderr",
     "output_type": "stream",
     "text": [
      "151it [03:38,  1.37it/s]"
     ]
    },
    {
     "name": "stdout",
     "output_type": "stream",
     "text": [
      "http://www.thebrightonblade.com/stories/an-economy-in-flux,421045\n",
      "https://www.miragenews.com/does-food-sharing-economy-benefit-environment-947226/\n"
     ]
    },
    {
     "name": "stderr",
     "output_type": "stream",
     "text": [
      "168it [04:01,  1.14s/it]"
     ]
    },
    {
     "name": "stdout",
     "output_type": "stream",
     "text": [
      "https://www.northumberlandgazette.co.uk/news/politics/council/northumberland-councillors-welcome-ps9m-boost-for-rural-economy-4027226\n"
     ]
    },
    {
     "name": "stderr",
     "output_type": "stream",
     "text": [
      "172it [04:06,  1.07s/it]"
     ]
    },
    {
     "name": "stdout",
     "output_type": "stream",
     "text": [
      "https://www.miragenews.com/moroccos-economy-suffers-supply-shock-pressure-947330/\n"
     ]
    },
    {
     "name": "stderr",
     "output_type": "stream",
     "text": [
      "176it [04:09,  1.24it/s]"
     ]
    },
    {
     "name": "stdout",
     "output_type": "stream",
     "text": [
      "https://www.abc.net.au/news/2023-02-15/cost-of-living-crunch-could-hit-one-million-households/101968178\n",
      "https://www.constructionweekonline.com/business/evolution-not-revolution-the-answer-to-a-developed-economy\n"
     ]
    },
    {
     "name": "stderr",
     "output_type": "stream",
     "text": [
      "178it [04:11,  1.18it/s]"
     ]
    },
    {
     "name": "stdout",
     "output_type": "stream",
     "text": [
      "http://castlerocknewspress.net/stories/an-economy-in-flux,421045\n"
     ]
    },
    {
     "name": "stderr",
     "output_type": "stream",
     "text": [
      "186it [04:23,  1.00s/it]"
     ]
    },
    {
     "name": "stdout",
     "output_type": "stream",
     "text": [
      "https://europeangaming.eu/portal/latest-news/2023/02/14/130039/vietnams-da-lat-plans-to-build-casino-to-boost-night-time-economy/\n"
     ]
    },
    {
     "name": "stderr",
     "output_type": "stream",
     "text": [
      "189it [04:28,  1.29s/it]"
     ]
    },
    {
     "name": "stdout",
     "output_type": "stream",
     "text": [
      "https://www.miragenews.com/tasmanian-economy-thrives-in-nab-survey-947667/\n"
     ]
    },
    {
     "name": "stderr",
     "output_type": "stream",
     "text": [
      "226it [05:44,  2.95s/it]"
     ]
    },
    {
     "name": "stdout",
     "output_type": "stream",
     "text": [
      "https://www.dailynews.lk/2023/02/15/features/297376/development-earnest\n"
     ]
    },
    {
     "name": "stderr",
     "output_type": "stream",
     "text": [
      "230it [05:48,  1.51s/it]"
     ]
    },
    {
     "name": "stdout",
     "output_type": "stream",
     "text": [
      "총 230건 중 207 건 크롤링 성공\n",
      "2-14-2023  크롤링 완료\n"
     ]
    },
    {
     "name": "stderr",
     "output_type": "stream",
     "text": [
      "\n"
     ]
    }
   ],
   "source": [
    "name = \"Urls{}-{}.pickle\".format(from_date,to_date)\n",
    "name = name.replace('/','.')\n",
    "# 2  수집된 url로 news 크롤링 \n",
    "with open(main_path + '/' + 'url/' + name, 'rb') as f:\n",
    "    data = pickle.load(f)\n",
    "\n",
    "# start = 0\n",
    "for date in list(data):\n",
    "    print(date, '크롤링 시작')\n",
    "    cnt = 0\n",
    "    tmp = []\n",
    "    urls = []\n",
    "    for idx,url in tqdm(enumerate(data[date])):\n",
    "        try:\n",
    "            article = Article(url)\n",
    "            article.download()\n",
    "            article.parse()\n",
    "            v = article.text\n",
    "            tmp.append(v)\n",
    "            urls.append(url)\n",
    "            cnt += 1\n",
    "        except:\n",
    "            pass\n",
    "            tmp.append(\"null\")\n",
    "            urls.append(url)\n",
    "            print(url)\n",
    "    print(\"총 {}건 중 {} 건 크롤링 성공\".format(idx+1,cnt))\n",
    "    data[date] = [tmp,[url]]\n",
    "    date = date.replace('/','-')\n",
    "    with open(main_path + '/' + 'news_backup/' + 'news-' + date + '.pickle','wb') as f:\n",
    "        pickle.dump(data,f)\n",
    "    print(date,' 크롤링 완료')\n"
   ]
  },
  {
   "cell_type": "code",
   "execution_count": 61,
   "id": "03553d03",
   "metadata": {},
   "outputs": [
    {
     "data": {
      "text/html": [
       "<div>\n",
       "<style scoped>\n",
       "    .dataframe tbody tr th:only-of-type {\n",
       "        vertical-align: middle;\n",
       "    }\n",
       "\n",
       "    .dataframe tbody tr th {\n",
       "        vertical-align: top;\n",
       "    }\n",
       "\n",
       "    .dataframe thead th {\n",
       "        text-align: right;\n",
       "    }\n",
       "</style>\n",
       "<table border=\"1\" class=\"dataframe\">\n",
       "  <thead>\n",
       "    <tr style=\"text-align: right;\">\n",
       "      <th></th>\n",
       "      <th>0</th>\n",
       "    </tr>\n",
       "  </thead>\n",
       "  <tbody>\n",
       "    <tr>\n",
       "      <th>일자</th>\n",
       "      <td>20230214</td>\n",
       "    </tr>\n",
       "    <tr>\n",
       "      <th>news</th>\n",
       "      <td>[Create a free account and access your persona...</td>\n",
       "    </tr>\n",
       "    <tr>\n",
       "      <th>url</th>\n",
       "      <td>[https://www.iworldtoday.com/news/articleView....</td>\n",
       "    </tr>\n",
       "    <tr>\n",
       "      <th>kwd</th>\n",
       "      <td>[[economic, international, world, article, ana...</td>\n",
       "    </tr>\n",
       "  </tbody>\n",
       "</table>\n",
       "</div>"
      ],
      "text/plain": [
       "                                                      0\n",
       "일자                                             20230214\n",
       "news  [Create a free account and access your persona...\n",
       "url   [https://www.iworldtoday.com/news/articleView....\n",
       "kwd   [[economic, international, world, article, ana..."
      ]
     },
     "execution_count": 61,
     "metadata": {},
     "output_type": "execute_result"
    }
   ],
   "source": [
    " pd.DataFrame(data).T"
   ]
  },
  {
   "cell_type": "code",
   "execution_count": 51,
   "id": "1c1fd696",
   "metadata": {},
   "outputs": [],
   "source": [
    "data = pd.DataFrame(data).T\n",
    "\n",
    "data = data.rename({0:\"news\",1:\"url\"},axis= 1)\n",
    "\n",
    "name = \"News{}-{}.pickle\".format(from_date,to_date)\n",
    "name = name.replace('/','.')\n",
    "\n",
    "with open(main_path + '/' + 'news/' + name,'wb') as f:\n",
    "    pickle.dump(data,f)"
   ]
  },
  {
   "cell_type": "code",
   "execution_count": 52,
   "id": "31275483",
   "metadata": {},
   "outputs": [],
   "source": [
    "from keybert import KeyBERT\n",
    "import pickle\n",
    "import re\n",
    "from tqdm import tqdm\n",
    "import pandas as pd\n",
    "import os"
   ]
  },
  {
   "cell_type": "code",
   "execution_count": 53,
   "id": "2eefa909",
   "metadata": {},
   "outputs": [],
   "source": [
    "def doc2key(cleaned_content):\n",
    "    \n",
    "    kw_model = KeyBERT(model='all-MiniLM-L6-v2')\n",
    "    keywords = kw_model.extract_keywords(doc)\n",
    "    \n",
    "    n2_kwd = kw_model.extract_keywords(cleaned_content, keyphrase_ngram_range=(2, 2), stop_words='english',\n",
    "                                  use_mmr=True, diversity=0.7, top_n=5)\n",
    "\n",
    "    n1_kwd = kw_model.extract_keywords(cleaned_content, keyphrase_ngram_range=(1, 1), stop_words='english',\n",
    "                                  use_mmr=True, diversity=0.7, top_n=45)\n",
    "    for idx,i in enumerate(n2_kwd):\n",
    "        n2_kwd[idx] = i[0]\n",
    "    for idx,i in enumerate(n1_kwd):\n",
    "        n1_kwd[idx] = i[0]  \n",
    "\n",
    "    n1_kwd.extend(n2_kwd)\n",
    "    kwd = n1_kwd\n",
    "    return kwd"
   ]
  },
  {
   "cell_type": "code",
   "execution_count": 54,
   "id": "1c90fddf",
   "metadata": {},
   "outputs": [],
   "source": [
    "def makeKeywordLsit(data,nn_jj = False):\n",
    "    kwd_list = []\n",
    "    for docs in tqdm(data['news']):\n",
    "        kwds = []\n",
    "        for doc in tqdm(docs):\n",
    "            try:\n",
    "                cleaned_content = re.sub(r'[^\\.\\?\\!\\w\\d\\s]','',doc) # 문장단위로 끊기\n",
    "                cleaned_content = cleaned_content.replace('\\n',' ')\n",
    "                cleaned_content = cleaned_content.lower()\n",
    "                kwd = doc2key(cleaned_content)\n",
    "                if nn_jj == True:\n",
    "                    tokens_pos = nltk.pos_tag(kwd)\n",
    "                    kwd_nn_jj = []\n",
    "                    for word, pos in tokens_pos:\n",
    "                        if 'NN' in pos or 'JJ' in pos:\n",
    "                            kwd_nn_jj.append(word)\n",
    "                    kwds.append(kwd_nn_jj)\n",
    "                else:\n",
    "                    kwds.append(kwd)\n",
    "            except:\n",
    "                print(doc)\n",
    "        kwd_list.append(kwds)\n",
    "    return kwd_list"
   ]
  },
  {
   "cell_type": "code",
   "execution_count": 55,
   "id": "fea1bf9b",
   "metadata": {},
   "outputs": [],
   "source": [
    "name = \"News{}-{}.pickle\".format(from_date,to_date)\n",
    "name = name.replace('/','.')\n",
    "\n",
    "with open(main_path + '/' + 'news/' + name, 'rb') as f:\n",
    "    data = pickle.load(f)"
   ]
  },
  {
   "cell_type": "code",
   "execution_count": 56,
   "id": "cae9d68a",
   "metadata": {},
   "outputs": [],
   "source": [
    "data = data.reset_index()\n",
    "data = data.rename({\"index\":\"date\"},axis = 1)\n",
    "\n",
    "idx = []\n",
    "for x in data['date']:\n",
    "    tmp = x.split('/')\n",
    "    if len(tmp[0]) == 1:\n",
    "        tmp[0] = '0'+tmp[0]\n",
    "    if len(tmp[1]) == 1:\n",
    "        tmp[1] = '0'+tmp[1]\n",
    "    tmp = tmp[2] + tmp[0] + tmp[1]\n",
    "    idx.append(''.join(tmp))"
   ]
  },
  {
   "cell_type": "code",
   "execution_count": 57,
   "id": "bdab204a",
   "metadata": {},
   "outputs": [],
   "source": [
    "data['date'] = idx\n",
    "data = data.rename({'date':'일자'},axis = 1)"
   ]
  },
  {
   "cell_type": "code",
   "execution_count": 62,
   "id": "c3a839bb",
   "metadata": {
    "scrolled": true
   },
   "outputs": [
    {
     "data": {
      "text/html": [
       "<div>\n",
       "<style scoped>\n",
       "    .dataframe tbody tr th:only-of-type {\n",
       "        vertical-align: middle;\n",
       "    }\n",
       "\n",
       "    .dataframe tbody tr th {\n",
       "        vertical-align: top;\n",
       "    }\n",
       "\n",
       "    .dataframe thead th {\n",
       "        text-align: right;\n",
       "    }\n",
       "</style>\n",
       "<table border=\"1\" class=\"dataframe\">\n",
       "  <thead>\n",
       "    <tr style=\"text-align: right;\">\n",
       "      <th></th>\n",
       "      <th>일자</th>\n",
       "      <th>news</th>\n",
       "      <th>url</th>\n",
       "      <th>kwd</th>\n",
       "    </tr>\n",
       "  </thead>\n",
       "  <tbody>\n",
       "    <tr>\n",
       "      <th>0</th>\n",
       "      <td>20230214</td>\n",
       "      <td>[Create a free account and access your persona...</td>\n",
       "      <td>[https://www.iworldtoday.com/news/articleView....</td>\n",
       "      <td>[[economic, international, world, article, ana...</td>\n",
       "    </tr>\n",
       "  </tbody>\n",
       "</table>\n",
       "</div>"
      ],
      "text/plain": [
       "         일자                                               news  \\\n",
       "0  20230214  [Create a free account and access your persona...   \n",
       "\n",
       "                                                 url  \\\n",
       "0  [https://www.iworldtoday.com/news/articleView....   \n",
       "\n",
       "                                                 kwd  \n",
       "0  [[economic, international, world, article, ana...  "
      ]
     },
     "execution_count": 62,
     "metadata": {},
     "output_type": "execute_result"
    }
   ],
   "source": [
    "data"
   ]
  },
  {
   "cell_type": "code",
   "execution_count": 59,
   "id": "7ba50b53",
   "metadata": {},
   "outputs": [
    {
     "name": "stderr",
     "output_type": "stream",
     "text": [
      "  0%|                                                                                            | 0/1 [00:00<?, ?it/s]\n",
      "  0%|                                                                                          | 0/230 [00:00<?, ?it/s]\u001b[A\n",
      "  0%|▎                                                                                 | 1/230 [00:01<04:37,  1.21s/it]\u001b[A\n",
      "  1%|▋                                                                                 | 2/230 [00:10<22:18,  5.87s/it]\u001b[A\n",
      "  1%|█                                                                                 | 3/230 [00:12<15:06,  3.99s/it]\u001b[A\n",
      "  2%|█▍                                                                                | 4/230 [00:13<11:26,  3.04s/it]\u001b[A\n",
      "  2%|█▊                                                                                | 5/230 [00:17<12:39,  3.37s/it]\u001b[A\n",
      "  3%|██▏                                                                               | 6/230 [00:18<09:28,  2.54s/it]\u001b[A\n",
      "  3%|██▍                                                                               | 7/230 [00:19<07:14,  1.95s/it]\u001b[A\n",
      "  3%|██▊                                                                               | 8/230 [00:22<08:36,  2.32s/it]\u001b[A\n",
      "  4%|███▏                                                                              | 9/230 [00:26<10:46,  2.92s/it]\u001b[A\n",
      "  4%|███▌                                                                             | 10/230 [00:27<08:25,  2.30s/it]\u001b[A\n",
      "  5%|███▊                                                                             | 11/230 [00:30<08:33,  2.35s/it]\u001b[A\n",
      "  5%|████▏                                                                            | 12/230 [00:32<08:56,  2.46s/it]\u001b[A\n",
      "  6%|████▌                                                                            | 13/230 [00:34<07:58,  2.20s/it]\u001b[A\n",
      "  6%|████▉                                                                            | 14/230 [00:36<07:28,  2.08s/it]\u001b[A\n",
      "  7%|█████▎                                                                           | 15/230 [00:36<05:55,  1.65s/it]\u001b[A\n",
      "  7%|█████▋                                                                           | 16/230 [00:41<08:47,  2.47s/it]\u001b[A\n",
      "  7%|█████▉                                                                           | 17/230 [00:44<09:19,  2.63s/it]\u001b[A\n",
      "  8%|██████▎                                                                          | 18/230 [00:48<11:31,  3.26s/it]\u001b[A\n",
      "  8%|██████▋                                                                          | 19/230 [00:51<10:58,  3.12s/it]\u001b[A\n",
      "  9%|███████                                                                          | 20/230 [00:54<10:25,  2.98s/it]\u001b[A\n",
      "  9%|███████▍                                                                         | 21/230 [00:57<10:05,  2.90s/it]\u001b[A\n",
      " 10%|███████▋                                                                         | 22/230 [01:00<10:21,  2.99s/it]\u001b[A\n",
      " 10%|████████                                                                         | 23/230 [01:01<08:25,  2.44s/it]\u001b[A\n",
      " 10%|████████▍                                                                        | 24/230 [01:02<06:44,  1.97s/it]\u001b[A\n",
      " 11%|████████▊                                                                        | 25/230 [01:04<06:46,  1.98s/it]\u001b[A\n",
      " 11%|█████████▏                                                                       | 26/230 [01:06<07:10,  2.11s/it]\u001b[A\n",
      " 12%|█████████▌                                                                       | 27/230 [01:08<06:35,  1.95s/it]\u001b[A\n",
      " 12%|█████████▊                                                                       | 28/230 [01:12<09:00,  2.67s/it]\u001b[A\n",
      " 13%|██████████▏                                                                      | 29/230 [01:15<09:19,  2.78s/it]\u001b[A\n",
      " 13%|██████████▌                                                                      | 30/230 [01:18<08:51,  2.66s/it]\u001b[A\n",
      " 13%|██████████▉                                                                      | 31/230 [01:20<08:33,  2.58s/it]\u001b[A\n",
      " 14%|███████████▎                                                                     | 32/230 [01:22<08:13,  2.49s/it]\u001b[A\n",
      " 14%|███████████▌                                                                     | 33/230 [01:25<08:02,  2.45s/it]\u001b[A\n",
      " 15%|███████████▉                                                                     | 34/230 [01:25<06:18,  1.93s/it]\u001b[A\n",
      " 15%|████████████▎                                                                    | 35/230 [01:27<05:34,  1.72s/it]\u001b[A\n",
      " 16%|████████████▋                                                                    | 36/230 [01:28<04:54,  1.52s/it]\u001b[A\n",
      " 16%|█████████████                                                                    | 37/230 [01:31<07:02,  2.19s/it]\u001b[A\n",
      " 17%|█████████████▍                                                                   | 38/230 [01:32<05:36,  1.75s/it]\u001b[A\n",
      " 17%|█████████████▋                                                                   | 39/230 [01:34<05:42,  1.80s/it]\u001b[A\n",
      " 17%|██████████████                                                                   | 40/230 [01:36<06:12,  1.96s/it]\u001b[A\n",
      " 18%|██████████████▍                                                                  | 41/230 [01:39<06:33,  2.08s/it]\u001b[A\n",
      " 18%|██████████████▊                                                                  | 42/230 [01:41<07:03,  2.25s/it]\u001b[A\n",
      " 19%|███████████████▏                                                                 | 43/230 [01:43<06:31,  2.09s/it]\u001b[A\n",
      " 19%|███████████████▍                                                                 | 44/230 [01:46<07:27,  2.41s/it]\u001b[A\n",
      " 20%|███████████████▊                                                                 | 45/230 [01:47<06:21,  2.06s/it]\u001b[A\n",
      " 20%|████████████████▏                                                                | 46/230 [01:49<06:12,  2.03s/it]\u001b[A\n",
      " 20%|████████████████▌                                                                | 47/230 [01:51<06:13,  2.04s/it]\u001b[A\n",
      " 21%|████████████████▉                                                                | 48/230 [01:52<05:07,  1.69s/it]\u001b[A\n",
      " 21%|█████████████████▎                                                               | 49/230 [01:54<05:13,  1.73s/it]\u001b[A\n",
      " 22%|█████████████████▌                                                               | 50/230 [01:56<05:33,  1.85s/it]\u001b[A\n",
      " 22%|█████████████████▉                                                               | 51/230 [01:57<04:44,  1.59s/it]\u001b[A\n",
      " 23%|██████████████████▎                                                              | 52/230 [01:58<03:57,  1.33s/it]\u001b[A\n",
      " 23%|██████████████████▋                                                              | 53/230 [02:01<05:24,  1.84s/it]\u001b[A\n",
      " 23%|███████████████████                                                              | 54/230 [02:04<06:27,  2.20s/it]\u001b[A\n",
      " 24%|███████████████████▎                                                             | 55/230 [02:07<07:20,  2.52s/it]\u001b[A\n",
      " 24%|███████████████████▋                                                             | 56/230 [02:10<07:11,  2.48s/it]\u001b[A\n",
      " 25%|████████████████████                                                             | 57/230 [02:11<06:00,  2.09s/it]\u001b[A\n",
      " 25%|████████████████████▍                                                            | 58/230 [02:16<08:58,  3.13s/it]\u001b[A\n",
      " 26%|████████████████████▊                                                            | 59/230 [02:22<10:49,  3.80s/it]\u001b[A\n",
      " 26%|█████████████████████▏                                                           | 60/230 [02:24<09:40,  3.42s/it]\u001b[A\n",
      " 27%|█████████████████████▍                                                           | 61/230 [02:27<08:46,  3.11s/it]\u001b[A\n",
      " 27%|█████████████████████▊                                                           | 62/230 [02:30<08:33,  3.06s/it]\u001b[A\n",
      " 27%|██████████████████████▏                                                          | 63/230 [02:32<07:38,  2.75s/it]\u001b[A\n",
      " 28%|██████████████████████▌                                                          | 64/230 [02:34<07:11,  2.60s/it]\u001b[A\n"
     ]
    },
    {
     "name": "stderr",
     "output_type": "stream",
     "text": [
      " 28%|██████████████████████▉                                                          | 65/230 [02:36<06:43,  2.45s/it]\u001b[A\n",
      " 29%|███████████████████████▏                                                         | 66/230 [02:38<06:31,  2.39s/it]\u001b[A\n",
      " 29%|███████████████████████▌                                                         | 67/230 [02:44<08:53,  3.28s/it]\u001b[A\n",
      " 30%|███████████████████████▉                                                         | 68/230 [02:46<08:11,  3.03s/it]\u001b[A\n",
      " 30%|████████████████████████▎                                                        | 69/230 [02:49<08:22,  3.12s/it]\u001b[A\n",
      " 30%|████████████████████████▋                                                        | 70/230 [02:52<07:48,  2.93s/it]\u001b[A\n",
      " 31%|█████████████████████████                                                        | 71/230 [02:55<07:44,  2.92s/it]\u001b[A\n",
      " 31%|█████████████████████████▎                                                       | 72/230 [02:57<07:18,  2.78s/it]\u001b[A\n",
      " 32%|█████████████████████████▋                                                       | 73/230 [03:01<08:07,  3.11s/it]\u001b[A\n",
      " 32%|██████████████████████████                                                       | 74/230 [03:03<07:06,  2.73s/it]\u001b[A\n",
      " 33%|██████████████████████████▍                                                      | 75/230 [03:04<05:58,  2.31s/it]\u001b[A\n",
      " 33%|██████████████████████████▊                                                      | 76/230 [03:07<06:25,  2.51s/it]\u001b[A\n",
      " 33%|███████████████████████████                                                      | 77/230 [03:11<07:15,  2.84s/it]\u001b[A\n",
      " 34%|███████████████████████████▍                                                     | 78/230 [03:12<05:33,  2.19s/it]\u001b[A\n",
      " 34%|███████████████████████████▊                                                     | 79/230 [03:13<05:16,  2.10s/it]\u001b[A\n",
      " 35%|████████████████████████████▏                                                    | 80/230 [03:16<05:15,  2.11s/it]\u001b[A\n",
      " 35%|████████████████████████████▌                                                    | 81/230 [03:17<04:30,  1.82s/it]\u001b[A\n",
      " 36%|████████████████████████████▉                                                    | 82/230 [03:19<05:10,  2.10s/it]\u001b[A\n",
      " 36%|█████████████████████████████▏                                                   | 83/230 [03:24<07:14,  2.96s/it]\u001b[A\n",
      " 37%|█████████████████████████████▌                                                   | 84/230 [03:25<05:29,  2.26s/it]\u001b[A\n",
      " 37%|█████████████████████████████▉                                                   | 85/230 [03:31<07:59,  3.31s/it]\u001b[A\n",
      " 37%|██████████████████████████████▎                                                  | 86/230 [03:31<05:59,  2.50s/it]\u001b[A\n",
      " 38%|██████████████████████████████▋                                                  | 87/230 [03:35<06:33,  2.76s/it]\u001b[A\n",
      " 38%|██████████████████████████████▉                                                  | 88/230 [03:35<05:03,  2.14s/it]\u001b[A\n",
      " 39%|███████████████████████████████▎                                                 | 89/230 [03:37<04:15,  1.81s/it]\u001b[A\n",
      " 39%|███████████████████████████████▋                                                 | 90/230 [03:38<04:11,  1.79s/it]\u001b[A\n",
      " 40%|████████████████████████████████                                                 | 91/230 [03:39<03:24,  1.47s/it]\u001b[A\n",
      " 40%|████████████████████████████████▍                                                | 92/230 [03:43<04:48,  2.09s/it]\u001b[A\n",
      " 40%|████████████████████████████████▊                                                | 93/230 [03:45<04:45,  2.08s/it]\u001b[A\n",
      " 41%|█████████████████████████████████                                                | 94/230 [03:48<05:19,  2.35s/it]\u001b[A\n",
      " 41%|█████████████████████████████████▍                                               | 95/230 [03:51<06:01,  2.68s/it]\u001b[A\n",
      " 42%|█████████████████████████████████▊                                               | 96/230 [03:53<05:27,  2.44s/it]\u001b[A\n",
      " 42%|██████████████████████████████████▏                                              | 97/230 [03:57<06:31,  2.95s/it]\u001b[A\n",
      " 43%|██████████████████████████████████▌                                              | 98/230 [04:00<06:13,  2.83s/it]\u001b[A\n",
      " 43%|██████████████████████████████████▊                                              | 99/230 [04:02<05:53,  2.70s/it]\u001b[A\n",
      " 43%|██████████████████████████████████▊                                             | 100/230 [04:05<06:03,  2.79s/it]\u001b[A\n",
      " 44%|███████████████████████████████████▏                                            | 101/230 [04:06<04:39,  2.17s/it]\u001b[A\n",
      " 44%|███████████████████████████████████▍                                            | 102/230 [04:06<03:39,  1.72s/it]\u001b[A\n",
      " 45%|███████████████████████████████████▊                                            | 103/230 [04:08<03:32,  1.68s/it]\u001b[A\n",
      " 45%|████████████████████████████████████▏                                           | 104/230 [04:11<04:30,  2.15s/it]\u001b[A\n",
      " 46%|████████████████████████████████████▌                                           | 105/230 [04:13<04:07,  1.98s/it]\u001b[A\n",
      " 46%|████████████████████████████████████▊                                           | 106/230 [04:16<04:34,  2.21s/it]\u001b[A\n",
      " 47%|█████████████████████████████████████▏                                          | 107/230 [04:17<04:16,  2.09s/it]\u001b[A\n",
      " 47%|█████████████████████████████████████▌                                          | 108/230 [04:18<03:26,  1.69s/it]\u001b[A\n",
      " 47%|█████████████████████████████████████▉                                          | 109/230 [04:21<04:15,  2.11s/it]\u001b[A\n",
      " 48%|██████████████████████████████████████▎                                         | 110/230 [04:23<04:05,  2.05s/it]\u001b[A\n",
      " 48%|██████████████████████████████████████▌                                         | 111/230 [04:24<03:16,  1.65s/it]\u001b[A\n",
      " 49%|██████████████████████████████████████▉                                         | 112/230 [04:26<03:46,  1.92s/it]\u001b[A\n",
      " 49%|███████████████████████████████████████▎                                        | 113/230 [04:27<03:11,  1.64s/it]\u001b[A\n",
      " 50%|███████████████████████████████████████▋                                        | 114/230 [04:28<02:39,  1.38s/it]\u001b[A\n",
      " 50%|████████████████████████████████████████                                        | 115/230 [04:31<03:21,  1.76s/it]\u001b[A\n",
      " 50%|████████████████████████████████████████▎                                       | 116/230 [04:34<04:19,  2.28s/it]\u001b[A\n",
      " 51%|████████████████████████████████████████▋                                       | 117/230 [04:36<03:54,  2.07s/it]\u001b[A\n",
      " 51%|█████████████████████████████████████████                                       | 118/230 [04:37<03:08,  1.68s/it]\u001b[A\n",
      " 52%|█████████████████████████████████████████▍                                      | 119/230 [04:39<03:16,  1.77s/it]\u001b[A\n",
      " 52%|█████████████████████████████████████████▋                                      | 120/230 [04:41<03:30,  1.91s/it]\u001b[A\n",
      " 53%|██████████████████████████████████████████                                      | 121/230 [04:43<03:22,  1.86s/it]\u001b[A\n",
      " 53%|██████████████████████████████████████████▍                                     | 122/230 [04:47<04:35,  2.55s/it]\u001b[A\n",
      " 53%|██████████████████████████████████████████▊                                     | 123/230 [04:50<04:46,  2.68s/it]\u001b[A\n",
      " 54%|███████████████████████████████████████████▏                                    | 124/230 [04:52<04:44,  2.69s/it]\u001b[A\n",
      " 54%|███████████████████████████████████████████▍                                    | 125/230 [04:56<05:21,  3.06s/it]\u001b[A\n",
      " 55%|███████████████████████████████████████████▊                                    | 126/230 [04:59<05:12,  3.01s/it]\u001b[A\n",
      " 55%|████████████████████████████████████████████▏                                   | 127/230 [05:01<04:31,  2.63s/it]\u001b[A\n",
      " 56%|████████████████████████████████████████████▌                                   | 128/230 [05:03<04:17,  2.52s/it]\u001b[A\n",
      " 56%|████████████████████████████████████████████▊                                   | 129/230 [05:05<04:04,  2.43s/it]\u001b[A\n",
      " 57%|█████████████████████████████████████████████▏                                  | 130/230 [05:06<03:11,  1.91s/it]\u001b[A\n"
     ]
    },
    {
     "name": "stderr",
     "output_type": "stream",
     "text": [
      " 57%|█████████████████████████████████████████████▌                                  | 131/230 [05:07<02:39,  1.61s/it]\u001b[A\n",
      " 57%|█████████████████████████████████████████████▉                                  | 132/230 [05:09<02:43,  1.66s/it]\u001b[A\n",
      " 58%|██████████████████████████████████████████████▎                                 | 133/230 [05:10<02:12,  1.37s/it]\u001b[A\n",
      " 58%|██████████████████████████████████████████████▌                                 | 134/230 [05:10<01:56,  1.21s/it]\u001b[A\n",
      " 59%|██████████████████████████████████████████████▉                                 | 135/230 [05:13<02:24,  1.52s/it]\u001b[A\n",
      " 59%|███████████████████████████████████████████████▎                                | 136/230 [05:15<02:58,  1.90s/it]\u001b[A\n",
      " 60%|███████████████████████████████████████████████▋                                | 137/230 [05:19<03:36,  2.33s/it]\u001b[A\n",
      " 60%|████████████████████████████████████████████████                                | 138/230 [05:21<03:31,  2.30s/it]\u001b[A\n",
      " 60%|████████████████████████████████████████████████▎                               | 139/230 [05:25<04:03,  2.68s/it]\u001b[A\n",
      " 61%|████████████████████████████████████████████████▋                               | 140/230 [05:27<04:00,  2.67s/it]\u001b[A\n",
      " 61%|█████████████████████████████████████████████████                               | 141/230 [05:29<03:46,  2.55s/it]\u001b[A\n",
      " 62%|█████████████████████████████████████████████████▍                              | 142/230 [05:32<03:43,  2.54s/it]\u001b[A\n",
      " 62%|█████████████████████████████████████████████████▋                              | 143/230 [05:39<05:36,  3.87s/it]\u001b[A\n",
      " 63%|██████████████████████████████████████████████████                              | 144/230 [05:41<04:36,  3.22s/it]\u001b[A\n",
      " 63%|██████████████████████████████████████████████████▍                             | 145/230 [05:46<05:31,  3.90s/it]\u001b[A\n",
      " 63%|██████████████████████████████████████████████████▊                             | 146/230 [05:49<05:02,  3.60s/it]\u001b[A\n",
      " 64%|███████████████████████████████████████████████████▏                            | 147/230 [05:51<04:10,  3.02s/it]\u001b[A\n",
      " 64%|███████████████████████████████████████████████████▍                            | 148/230 [05:53<03:58,  2.90s/it]\u001b[A\n",
      " 65%|███████████████████████████████████████████████████▊                            | 149/230 [05:56<03:40,  2.72s/it]\u001b[A\n",
      " 65%|████████████████████████████████████████████████████▏                           | 150/230 [05:56<02:47,  2.10s/it]\u001b[A\n",
      " 66%|████████████████████████████████████████████████████▌                           | 151/230 [05:57<02:11,  1.66s/it]\u001b[A\n",
      " 66%|████████████████████████████████████████████████████▊                           | 152/230 [06:00<02:53,  2.22s/it]\u001b[A\n",
      " 67%|█████████████████████████████████████████████████████▏                          | 153/230 [06:02<02:42,  2.11s/it]\u001b[A\n",
      " 67%|█████████████████████████████████████████████████████▌                          | 154/230 [06:05<02:53,  2.28s/it]\u001b[A\n",
      " 67%|█████████████████████████████████████████████████████▉                          | 155/230 [06:07<02:52,  2.29s/it]\u001b[A\n",
      " 68%|██████████████████████████████████████████████████████▎                         | 156/230 [06:09<02:39,  2.16s/it]\u001b[A\n",
      " 68%|██████████████████████████████████████████████████████▌                         | 157/230 [06:11<02:36,  2.14s/it]\u001b[A\n",
      " 69%|██████████████████████████████████████████████████████▉                         | 158/230 [06:14<02:37,  2.18s/it]\u001b[A\n",
      " 69%|███████████████████████████████████████████████████████▎                        | 159/230 [06:16<02:31,  2.13s/it]\u001b[A\n",
      " 70%|███████████████████████████████████████████████████████▋                        | 160/230 [06:19<03:03,  2.62s/it]\u001b[A\n",
      " 70%|████████████████████████████████████████████████████████                        | 161/230 [06:20<02:26,  2.12s/it]\u001b[A\n",
      " 70%|████████████████████████████████████████████████████████▎                       | 162/230 [06:22<02:24,  2.13s/it]\u001b[A\n",
      " 71%|████████████████████████████████████████████████████████▋                       | 163/230 [06:23<01:59,  1.78s/it]\u001b[A\n",
      " 71%|█████████████████████████████████████████████████████████                       | 164/230 [06:26<02:14,  2.04s/it]\u001b[A\n",
      " 72%|█████████████████████████████████████████████████████████▍                      | 165/230 [06:28<02:08,  1.98s/it]\u001b[A\n",
      " 72%|█████████████████████████████████████████████████████████▋                      | 166/230 [06:29<01:42,  1.60s/it]\u001b[A\n",
      " 73%|██████████████████████████████████████████████████████████                      | 167/230 [06:30<01:36,  1.53s/it]\u001b[A\n",
      " 73%|██████████████████████████████████████████████████████████▍                     | 168/230 [06:31<01:20,  1.29s/it]\u001b[A\n",
      " 73%|██████████████████████████████████████████████████████████▊                     | 169/230 [06:34<02:03,  2.03s/it]\u001b[A\n",
      " 74%|███████████████████████████████████████████████████████████▏                    | 170/230 [06:37<02:11,  2.19s/it]\u001b[A\n",
      " 74%|███████████████████████████████████████████████████████████▍                    | 171/230 [06:40<02:19,  2.36s/it]\u001b[A\n",
      " 75%|███████████████████████████████████████████████████████████▊                    | 172/230 [06:40<01:48,  1.87s/it]\u001b[A\n",
      " 75%|████████████████████████████████████████████████████████████▏                   | 173/230 [06:44<02:11,  2.30s/it]\u001b[A\n",
      " 76%|████████████████████████████████████████████████████████████▌                   | 174/230 [06:48<02:46,  2.98s/it]\u001b[A\n",
      " 76%|████████████████████████████████████████████████████████████▊                   | 175/230 [06:49<02:06,  2.30s/it]\u001b[A\n",
      " 77%|█████████████████████████████████████████████████████████████▏                  | 176/230 [06:50<01:38,  1.83s/it]\u001b[A\n",
      " 77%|█████████████████████████████████████████████████████████████▌                  | 177/230 [06:55<02:24,  2.73s/it]\u001b[A\n",
      " 77%|█████████████████████████████████████████████████████████████▉                  | 178/230 [06:55<01:50,  2.12s/it]\u001b[A\n",
      " 78%|██████████████████████████████████████████████████████████████▎                 | 179/230 [06:58<01:58,  2.32s/it]\u001b[A\n",
      " 78%|██████████████████████████████████████████████████████████████▌                 | 180/230 [07:01<02:02,  2.44s/it]\u001b[A\n",
      " 79%|██████████████████████████████████████████████████████████████▉                 | 181/230 [07:05<02:24,  2.95s/it]\u001b[A\n",
      " 79%|███████████████████████████████████████████████████████████████▎                | 182/230 [07:06<02:01,  2.53s/it]\u001b[A\n",
      " 80%|███████████████████████████████████████████████████████████████▋                | 183/230 [07:08<01:49,  2.33s/it]\u001b[A\n",
      " 80%|████████████████████████████████████████████████████████████████                | 184/230 [07:10<01:43,  2.25s/it]\u001b[A\n",
      " 80%|████████████████████████████████████████████████████████████████▎               | 185/230 [07:14<01:59,  2.65s/it]\u001b[A\n",
      " 81%|████████████████████████████████████████████████████████████████▋               | 186/230 [07:15<01:31,  2.07s/it]\u001b[A\n",
      " 81%|█████████████████████████████████████████████████████████████████               | 187/230 [07:17<01:26,  2.00s/it]\u001b[A\n",
      " 82%|█████████████████████████████████████████████████████████████████▍              | 188/230 [07:19<01:24,  2.01s/it]\u001b[A\n",
      " 82%|█████████████████████████████████████████████████████████████████▋              | 189/230 [07:19<01:06,  1.62s/it]\u001b[A\n",
      " 83%|██████████████████████████████████████████████████████████████████              | 190/230 [07:21<01:04,  1.61s/it]\u001b[A\n",
      " 83%|██████████████████████████████████████████████████████████████████▍             | 191/230 [07:25<01:32,  2.36s/it]\u001b[A\n",
      " 83%|██████████████████████████████████████████████████████████████████▊             | 192/230 [07:27<01:22,  2.18s/it]\u001b[A\n",
      " 84%|███████████████████████████████████████████████████████████████████▏            | 193/230 [07:30<01:33,  2.52s/it]\u001b[A\n",
      " 84%|███████████████████████████████████████████████████████████████████▍            | 194/230 [07:33<01:36,  2.69s/it]\u001b[A\n",
      " 85%|███████████████████████████████████████████████████████████████████▊            | 195/230 [07:35<01:28,  2.54s/it]\u001b[A\n",
      " 85%|████████████████████████████████████████████████████████████████████▏           | 196/230 [07:36<01:11,  2.10s/it]\u001b[A\n"
     ]
    },
    {
     "name": "stderr",
     "output_type": "stream",
     "text": [
      " 86%|████████████████████████████████████████████████████████████████████▌           | 197/230 [07:39<01:18,  2.37s/it]\u001b[A\n",
      " 86%|████████████████████████████████████████████████████████████████████▊           | 198/230 [07:40<01:01,  1.92s/it]\u001b[A\n",
      " 87%|█████████████████████████████████████████████████████████████████████▏          | 199/230 [07:41<00:52,  1.68s/it]\u001b[A\n",
      " 87%|█████████████████████████████████████████████████████████████████████▌          | 200/230 [07:44<00:55,  1.85s/it]\u001b[A\n",
      " 87%|█████████████████████████████████████████████████████████████████████▉          | 201/230 [07:47<01:04,  2.22s/it]\u001b[A\n",
      " 88%|██████████████████████████████████████████████████████████████████████▎         | 202/230 [07:51<01:16,  2.72s/it]\u001b[A\n",
      " 88%|██████████████████████████████████████████████████████████████████████▌         | 203/230 [07:59<01:56,  4.30s/it]\u001b[A\n",
      " 89%|██████████████████████████████████████████████████████████████████████▉         | 204/230 [08:01<01:36,  3.72s/it]\u001b[A\n",
      " 89%|███████████████████████████████████████████████████████████████████████▎        | 205/230 [08:04<01:30,  3.61s/it]\u001b[A\n",
      " 90%|███████████████████████████████████████████████████████████████████████▋        | 206/230 [08:05<01:05,  2.74s/it]\u001b[A\n",
      " 90%|████████████████████████████████████████████████████████████████████████        | 207/230 [08:08<01:04,  2.83s/it]\u001b[A\n",
      " 90%|████████████████████████████████████████████████████████████████████████▎       | 208/230 [08:10<00:56,  2.58s/it]\u001b[A\n",
      " 91%|████████████████████████████████████████████████████████████████████████▋       | 209/230 [08:13<00:55,  2.62s/it]\u001b[A\n",
      " 91%|█████████████████████████████████████████████████████████████████████████       | 210/230 [08:16<00:58,  2.92s/it]\u001b[A\n",
      " 92%|█████████████████████████████████████████████████████████████████████████▍      | 211/230 [08:18<00:50,  2.64s/it]\u001b[A\n",
      " 92%|█████████████████████████████████████████████████████████████████████████▋      | 212/230 [08:21<00:48,  2.72s/it]\u001b[A\n",
      " 93%|██████████████████████████████████████████████████████████████████████████      | 213/230 [08:23<00:42,  2.53s/it]\u001b[A\n",
      " 93%|██████████████████████████████████████████████████████████████████████████▍     | 214/230 [08:26<00:38,  2.41s/it]\u001b[A\n",
      " 93%|██████████████████████████████████████████████████████████████████████████▊     | 215/230 [08:28<00:38,  2.54s/it]\u001b[A\n",
      " 94%|███████████████████████████████████████████████████████████████████████████▏    | 216/230 [08:30<00:32,  2.36s/it]\u001b[A\n",
      " 94%|███████████████████████████████████████████████████████████████████████████▍    | 217/230 [08:34<00:37,  2.91s/it]\u001b[A\n",
      " 95%|███████████████████████████████████████████████████████████████████████████▊    | 218/230 [08:35<00:26,  2.23s/it]\u001b[A\n",
      " 95%|████████████████████████████████████████████████████████████████████████████▏   | 219/230 [08:36<00:20,  1.88s/it]\u001b[A\n",
      " 96%|████████████████████████████████████████████████████████████████████████████▌   | 220/230 [08:37<00:15,  1.58s/it]\u001b[A\n",
      " 96%|████████████████████████████████████████████████████████████████████████████▊   | 221/230 [08:40<00:16,  1.88s/it]\u001b[A\n",
      " 97%|█████████████████████████████████████████████████████████████████████████████▏  | 222/230 [08:43<00:18,  2.34s/it]\u001b[A\n",
      " 97%|█████████████████████████████████████████████████████████████████████████████▌  | 223/230 [08:44<00:12,  1.85s/it]\u001b[A\n",
      " 97%|█████████████████████████████████████████████████████████████████████████████▉  | 224/230 [08:55<00:28,  4.69s/it]\u001b[A\n",
      " 98%|██████████████████████████████████████████████████████████████████████████████▎ | 225/230 [08:57<00:19,  3.90s/it]\u001b[A\n",
      " 98%|██████████████████████████████████████████████████████████████████████████████▌ | 226/230 [08:58<00:11,  2.94s/it]\u001b[A\n",
      " 99%|██████████████████████████████████████████████████████████████████████████████▉ | 227/230 [09:00<00:08,  2.68s/it]\u001b[A\n",
      " 99%|███████████████████████████████████████████████████████████████████████████████▎| 228/230 [09:02<00:05,  2.52s/it]\u001b[A\n",
      "100%|███████████████████████████████████████████████████████████████████████████████▋| 229/230 [09:06<00:02,  2.91s/it]\u001b[A\n",
      "100%|████████████████████████████████████████████████████████████████████████████████| 230/230 [09:12<00:00,  2.40s/it]\u001b[A\n",
      "100%|███████████████████████████████████████████████████████████████████████████████████| 1/1 [09:12<00:00, 552.36s/it]\n"
     ]
    }
   ],
   "source": [
    "kwd_list = makeKeywordLsit(data, nn_jj = True)"
   ]
  },
  {
   "cell_type": "code",
   "execution_count": 63,
   "id": "1df0e020",
   "metadata": {
    "scrolled": true
   },
   "outputs": [],
   "source": [
    "data['kwd'] = kwd_list"
   ]
  },
  {
   "cell_type": "code",
   "execution_count": 64,
   "id": "1fcbdf4d",
   "metadata": {},
   "outputs": [],
   "source": [
    "name = \"Keyword{}-{}.pickle\".format(from_date,to_date)\n",
    "name = name.replace('/','.')\n",
    "with open(main_path + '/' + 'keyword/' + name,'wb') as f:\n",
    "    pickle.dump(data,f)"
   ]
  }
 ],
 "metadata": {
  "kernelspec": {
   "display_name": "Python 3 (ipykernel)",
   "language": "python",
   "name": "python3"
  },
  "language_info": {
   "codemirror_mode": {
    "name": "ipython",
    "version": 3
   },
   "file_extension": ".py",
   "mimetype": "text/x-python",
   "name": "python",
   "nbconvert_exporter": "python",
   "pygments_lexer": "ipython3",
   "version": "3.9.13"
  }
 },
 "nbformat": 4,
 "nbformat_minor": 5
}
